{
 "cells": [
  {
   "cell_type": "markdown",
   "metadata": {},
   "source": [
    "# 1 WAP to Reverse a sting or number without any inbuild function and check palindrome"
   ]
  },
  {
   "cell_type": "code",
   "execution_count": 1,
   "metadata": {},
   "outputs": [
    {
     "name": "stdout",
     "output_type": "stream",
     "text": [
      "enter a string or number\n",
      "\n",
      "\n",
      "palindrome\n"
     ]
    }
   ],
   "source": [
    "x =(input(\"enter a string or number\"))\n",
    "print(x)\n",
    "x1 =x[::-1]\n",
    "print(x1)\n",
    "d = ['not palindrome', \"palindrome\"]\n",
    "print(d[x==x1])"
   ]
  },
  {
   "cell_type": "markdown",
   "metadata": {},
   "source": [
    "# 2 WAP for mirror of a string position wise eg : a to z and b to y"
   ]
  },
  {
   "cell_type": "code",
   "execution_count": 3,
   "metadata": {},
   "outputs": [
    {
     "name": "stdout",
     "output_type": "stream",
     "text": [
      "abcdefghijklmnopqrstuvwxyzABCDEFGHIJKLMNOPQRSTUVWXYZ\n"
     ]
    }
   ],
   "source": [
    "# Check\n",
    "\n",
    "\n",
    "import string\n",
    "print(string.ascii_letters)"
   ]
  },
  {
   "cell_type": "code",
   "execution_count": 29,
   "metadata": {},
   "outputs": [
    {
     "name": "stdout",
     "output_type": "stream",
     "text": [
      "ss\n"
     ]
    }
   ],
   "source": [
    "# Check\n",
    "\n",
    "\n",
    "x = \"a\"\n",
    "\n",
    "if x.isupper():\n",
    "    print(x.lower())\n",
    "else:\n",
    "    print(\"ss\")"
   ]
  },
  {
   "cell_type": "code",
   "execution_count": 37,
   "metadata": {},
   "outputs": [
    {
     "name": "stdout",
     "output_type": "stream",
     "text": [
      "enter the alphabet : Z\n",
      "A\n"
     ]
    }
   ],
   "source": [
    "# 2 WAP for mirror of a string position wise eg : a to z and b to y\n",
    "import string\n",
    "s = input(\"enter the alphabet : \")\n",
    "for value in s:\n",
    "    if value.isalpha():\n",
    "        \n",
    "        if value.lower() == value:\n",
    "            if ord(value)<= ord(\"m\"):\n",
    "                print(chr(2 * ord(\"m\")-ord(value) +1))\n",
    "            elif ord(value)>= ord(\"m\"):\n",
    "                print(chr(2 * ord(\"m\")-ord(value)+1))\n",
    "        elif value.upper() == value:\n",
    "            if ord(value)<= ord(\"M\"):\n",
    "                print(chr(2 * ord(\"M\")-ord(value) +1))\n",
    "            elif ord(value)>= ord(\"M\"):\n",
    "                print(chr(2 * ord(\"M\")-ord(value)+1))\n",
    "    else:\n",
    "        print(\"please enter alphabet\")"
   ]
  },
  {
   "cell_type": "code",
   "execution_count": 5,
   "metadata": {},
   "outputs": [
    {
     "name": "stdout",
     "output_type": "stream",
     "text": [
      "enter the alphabet: abcd\n",
      "zyxw"
     ]
    }
   ],
   "source": [
    "# 2 WAP for mirror of a string position wise eg : a to z and b to y\n",
    "import string\n",
    "s = list(i for i in input(\"enter the alphabet: \"))\n",
    "for value in s:\n",
    "    if value.isalpha():\n",
    "        \n",
    "        if value.lower() == value:\n",
    "            if ord(value)<= ord(\"m\"):\n",
    "                print(chr((ord(\"m\")-ord(value))+ord(\"m\")+1  ), end =\"\")\n",
    "            elif ord(value)>= ord(\"m\"):\n",
    "                print(chr(ord(\"m\")-(ord(value)-ord(\"m\"))+1,end =\"\"  ))\n",
    "        elif value.upper() == value:\n",
    "            if ord(value)<= ord(\"M\"):\n",
    "                print(chr((ord(\"M\")-ord(value))+ord(\"M\")+1,end =\"\" ))\n",
    "            elif ord(value)>= ord(\"m\"):\n",
    "                print(chr(ord(\"M\")-(ord(value)-ord(\"M\"))+1,end =\"\" ))\n",
    "    else:\n",
    "        print(\"please enter alphabet\")"
   ]
  },
  {
   "cell_type": "markdown",
   "metadata": {},
   "source": [
    "# 3 WAP for mirror of a string  "
   ]
  },
  {
   "cell_type": "code",
   "execution_count": 7,
   "metadata": {},
   "outputs": [
    {
     "data": {
      "text/plain": [
       "'dcba'"
      ]
     },
     "execution_count": 7,
     "metadata": {},
     "output_type": "execute_result"
    }
   ],
   "source": [
    "def mirror(text):\n",
    "    s =text\n",
    "    s1 =s[::-1]\n",
    "    \n",
    "    return s1\n",
    "mirror('abcd')"
   ]
  },
  {
   "cell_type": "markdown",
   "metadata": {},
   "source": [
    "# 4  WAP to sort list of no. in ascending or descending order without sort function"
   ]
  },
  {
   "cell_type": "code",
   "execution_count": 16,
   "metadata": {},
   "outputs": [
    {
     "name": "stdout",
     "output_type": "stream",
     "text": [
      "[-23, -6, -5, 0, 5, 23, 23, 67]\n",
      "[67, 23, 23, 5, 0, -5, -6, -23]\n"
     ]
    }
   ],
   "source": [
    "#ascending\n",
    "x = [-5, -23, 5, 0, 23, -6, 23, 67]\n",
    "\n",
    "l = []\n",
    "\n",
    "while x:\n",
    "    minimum =x[0]\n",
    "    for val in x:\n",
    "        if val < minimum:\n",
    "            minimum =val\n",
    "    l.append(minimum)\n",
    "    x.remove(minimum)\n",
    "print (l)\n",
    "#DEScending\n",
    "x = [-5, -23, 5, 0, 23, -6, 23, 67]\n",
    "\n",
    "l = []\n",
    "\n",
    "while x:\n",
    "    max =x[0]\n",
    "    for val in x:\n",
    "        if val > max:\n",
    "            max =val\n",
    "    l.append(max)\n",
    "    x.remove(max)\n",
    "print (l)"
   ]
  },
  {
   "cell_type": "code",
   "execution_count": 2,
   "metadata": {},
   "outputs": [
    {
     "name": "stdout",
     "output_type": "stream",
     "text": [
      "[-34, -24, -5, -5, 1, 4, 5, 5, 43, 46]\n"
     ]
    }
   ],
   "source": [
    "\n",
    "def sort_function(l):\n",
    "    l=l\n",
    "    sort_list =[]\n",
    "    while l:\n",
    "        minimum_value =l[0]\n",
    "        for value in l:\n",
    "            if value < minimum_value:\n",
    "                minimum_value = value\n",
    "        sort_list.append(minimum_value)\n",
    "        l.remove(minimum_value)\n",
    "    print(sort_list)       \n",
    "sort_function([1,46,43,-34,5,4,-5,-24,5,-5])  "
   ]
  },
  {
   "cell_type": "markdown",
   "metadata": {},
   "source": [
    "# 5 WAP to sort list of alphabes. in ascending or descending order without sort function\n"
   ]
  },
  {
   "cell_type": "code",
   "execution_count": 22,
   "metadata": {},
   "outputs": [
    {
     "name": "stdout",
     "output_type": "stream",
     "text": [
      "['a', 'e', 'i', 'o', 'u']\n"
     ]
    }
   ],
   "source": [
    "# Check\n",
    "\n",
    "\n",
    "x =\"aeioU\"\n",
    "x = x.lower()\n",
    "x= list(x)\n",
    "print(x)"
   ]
  },
  {
   "cell_type": "code",
   "execution_count": 28,
   "metadata": {},
   "outputs": [
    {
     "name": "stdout",
     "output_type": "stream",
     "text": [
      "['a', 'b', 'e', 'i', 'u']\n"
     ]
    }
   ],
   "source": [
    "import string\n",
    "x = ['a', 'e', 'i', 'b', 'u']\n",
    "l =[]\n",
    "while x:\n",
    "    minimum = x[0]\n",
    "    for alpha in x:\n",
    "        if ord(alpha) < ord(minimum):\n",
    "            minimum=alpha\n",
    "    l.append(minimum)\n",
    "    x.remove(minimum)\n",
    "print(l)"
   ]
  },
  {
   "cell_type": "code",
   "execution_count": 29,
   "metadata": {},
   "outputs": [
    {
     "name": "stdout",
     "output_type": "stream",
     "text": [
      "['u', 'i', 'e', 'b', 'a']\n"
     ]
    }
   ],
   "source": [
    "import string\n",
    "x = ['a', 'e', 'i', 'b', 'u']\n",
    "l =[]\n",
    "while x:\n",
    "    max = x[0]\n",
    "    for alpha in x:\n",
    "        if ord(alpha) > ord(max):\n",
    "            max=alpha\n",
    "    l.append(max)\n",
    "    x.remove(max)\n",
    "print(l)"
   ]
  },
  {
   "cell_type": "markdown",
   "metadata": {},
   "source": [
    "# 6  Fibonacci series till n"
   ]
  },
  {
   "cell_type": "code",
   "execution_count": 9,
   "metadata": {},
   "outputs": [
    {
     "name": "stdout",
     "output_type": "stream",
     "text": [
      "Enter the number: 5\n",
      "[0, 1, 1, 2, 3, 5]\n"
     ]
    }
   ],
   "source": [
    "\n",
    "n = int(input('Enter the number: '))\n",
    "x=0\n",
    "y=1\n",
    "l=[x]\n",
    "for value in range(n):\n",
    "    l.append(y)\n",
    "    x,y = y,x+y\n",
    "print(l)"
   ]
  },
  {
   "cell_type": "code",
   "execution_count": 12,
   "metadata": {},
   "outputs": [
    {
     "name": "stdout",
     "output_type": "stream",
     "text": [
      "Enter the number: 5\n",
      "[0, 1, 1, 2, 3, 5]\n"
     ]
    }
   ],
   "source": [
    "n = int(input('Enter the number: '))\n",
    "x=0\n",
    "y=1\n",
    "l=[x]\n",
    "for value in range(n):\n",
    "    l.append(y)\n",
    "    z = x\n",
    "    x = y\n",
    "    y = z + y\n",
    "print(l)"
   ]
  },
  {
   "cell_type": "code",
   "execution_count": 77,
   "metadata": {},
   "outputs": [
    {
     "name": "stdout",
     "output_type": "stream",
     "text": [
      "Enter the number: 5\n",
      "[0, 1, 1, 2, 3, 5]\n",
      "index numner for  5 = 5\n"
     ]
    }
   ],
   "source": [
    "# 6  Fibonacci series index value for n\n",
    "n = int(input('Enter the number: '))\n",
    "x=0\n",
    "y=1\n",
    "l=[0]\n",
    "for value in range(n):\n",
    "    l.append(y)\n",
    "    x,y = y,x+y\n",
    "print(l)\n",
    "print('index numner for ', n ,\"=\", l[n] )"
   ]
  },
  {
   "cell_type": "code",
   "execution_count": 78,
   "metadata": {},
   "outputs": [
    {
     "name": "stdout",
     "output_type": "stream",
     "text": [
      "Enter the number: 5\n",
      "[0, 1, 1, 2, 3, 5]\n",
      "Total = 12\n"
     ]
    }
   ],
   "source": [
    "# 6  Fibonacci series total till index value for n\n",
    "n = int(input('Enter the number: '))\n",
    "x=0\n",
    "y=1\n",
    "l=[0]\n",
    "for value in range(n):\n",
    "    l.append(y)\n",
    "    x,y = y,x+y\n",
    "print(l)\n",
    "print('Total',\"=\", sum(l) )\n"
   ]
  },
  {
   "cell_type": "markdown",
   "metadata": {},
   "source": [
    "# 7 WAP to sum each number enterd"
   ]
  },
  {
   "cell_type": "code",
   "execution_count": 83,
   "metadata": {},
   "outputs": [
    {
     "name": "stdout",
     "output_type": "stream",
     "text": [
      "45\n"
     ]
    }
   ],
   "source": [
    "x =\"123456789\"\n",
    "x =list(x)\n",
    "l =[]\n",
    "for val in x:\n",
    "    y = int(val)\n",
    "    l.append(y)\n",
    "print(sum(l))"
   ]
  },
  {
   "cell_type": "code",
   "execution_count": 82,
   "metadata": {},
   "outputs": [
    {
     "name": "stdout",
     "output_type": "stream",
     "text": [
      "9\n",
      "45.0\n"
     ]
    }
   ],
   "source": [
    "x=[1,2,3,4,5,6,7,8,9]\n",
    "y =len(x)\n",
    "print(y)\n",
    "z= y *(y+1)/2\n",
    "print(z)"
   ]
  },
  {
   "cell_type": "code",
   "execution_count": 4,
   "metadata": {},
   "outputs": [
    {
     "name": "stdout",
     "output_type": "stream",
     "text": [
      "10\n"
     ]
    }
   ],
   "source": [
    "x=[1,2,3,4]\n",
    "i=0\n",
    "for value in x:\n",
    "    i+=value\n",
    "print(i)"
   ]
  },
  {
   "cell_type": "code",
   "execution_count": 13,
   "metadata": {},
   "outputs": [
    {
     "name": "stdout",
     "output_type": "stream",
     "text": [
      "enter number 555\n",
      "15\n"
     ]
    }
   ],
   "source": [
    "x = int(input(\"enter number \"))\n",
    "s = 0\n",
    "while x>0:\n",
    "    s =s+(x%10)\n",
    "    x = x//10\n",
    "print(s)\n",
    "    "
   ]
  },
  {
   "cell_type": "markdown",
   "metadata": {},
   "source": [
    "# 8 Factorial "
   ]
  },
  {
   "cell_type": "code",
   "execution_count": 14,
   "metadata": {},
   "outputs": [
    {
     "name": "stdout",
     "output_type": "stream",
     "text": [
      "enter a number5\n",
      "120\n"
     ]
    }
   ],
   "source": [
    "x = int(input('enter a number'))\n",
    "i =1\n",
    "for value in range(1,x+1):\n",
    "    if x >0:\n",
    "        i*=value\n",
    "    else:\n",
    "        print(x+1)\n",
    "print(i)\n",
    "        "
   ]
  },
  {
   "cell_type": "markdown",
   "metadata": {},
   "source": [
    "# 9 WAP to square with out ** and power"
   ]
  },
  {
   "cell_type": "code",
   "execution_count": 95,
   "metadata": {},
   "outputs": [
    {
     "name": "stdout",
     "output_type": "stream",
     "text": [
      "16\n"
     ]
    }
   ],
   "source": [
    "e =4\n",
    "b = 2\n",
    "i =1\n",
    "for val in range(e):\n",
    "    squ = b*i\n",
    "    i= squ\n",
    "print(squ)"
   ]
  },
  {
   "cell_type": "markdown",
   "metadata": {},
   "source": [
    "# 10 WAP print all Prime numbers in an Interval"
   ]
  },
  {
   "cell_type": "code",
   "execution_count": 1,
   "metadata": {},
   "outputs": [
    {
     "name": "stdout",
     "output_type": "stream",
     "text": [
      "53\n",
      "59\n",
      "61\n",
      "67\n",
      "71\n",
      "73\n",
      "79\n",
      "83\n",
      "89\n",
      "97\n",
      "101\n",
      "103\n",
      "107\n",
      "109\n",
      "113\n",
      "127\n",
      "131\n",
      "137\n",
      "139\n",
      "149\n"
     ]
    }
   ],
   "source": [
    "for val in range(50, 150 + 1): \n",
    "       \n",
    "    if val > 1: \n",
    "        for n in range(2, val): \n",
    "            if (val % n) == 0: \n",
    "               break\n",
    "        else: \n",
    "            print(val)"
   ]
  },
  {
   "cell_type": "code",
   "execution_count": 4,
   "metadata": {},
   "outputs": [
    {
     "name": "stdout",
     "output_type": "stream",
     "text": [
      "53\n",
      "59\n",
      "61\n",
      "67\n",
      "71\n",
      "73\n",
      "79\n",
      "83\n",
      "89\n",
      "97\n"
     ]
    }
   ],
   "source": [
    "for val in range(50, 100 + 1): \n",
    "       \n",
    "    if val > 1: \n",
    "        for n in range(2, val): \n",
    "            if (val % n) == 0: \n",
    "               break\n",
    "        else: \n",
    "            print(val)"
   ]
  },
  {
   "cell_type": "markdown",
   "metadata": {},
   "source": [
    "# 11. Amritansh . 2:06 PM (0 minutes ago) to me\n",
    "\n",
    "here is your question to solve :\n",
    "\n",
    "Following these constraints:\n",
    "\n",
    "You can use only one loop\n",
    "No extra data structures to be used.\n",
    "No inbuilt function to be used such as sort()\n",
    "Sample Input:\n",
    "\n",
    "a = [20,-10,19,45,90,-1,5,-19,-56,89]\n",
    "\n",
    "Output:\n",
    "\n",
    "a = [-10,-1,-19,-56,20,19,45,90,5,89]"
   ]
  },
  {
   "cell_type": "code",
   "execution_count": 3,
   "metadata": {},
   "outputs": [
    {
     "name": "stdout",
     "output_type": "stream",
     "text": [
      "[-10, -1, -19, -56, 90, 20, 5, 19, 45, 89]\n"
     ]
    }
   ],
   "source": [
    "a = [20,-10,19,45,90,-1,5,-19,-56,89]\n",
    "j= 0\n",
    "n= len(a)\n",
    "for i in range(0,n):\n",
    "    if a[i]<0:\n",
    "        a[i],a[j]=a[j],a[i]\n",
    "        j+=1\n",
    "print(a)\n",
    "        "
   ]
  },
  {
   "cell_type": "code",
   "execution_count": 10,
   "metadata": {},
   "outputs": [
    {
     "name": "stdout",
     "output_type": "stream",
     "text": [
      "[-10, -1, -19, -56, 90, 20, 5, 19, 45, 89]\n"
     ]
    }
   ],
   "source": [
    "a = [20,-10,19,45,90,-1,5,-19,-56,89]\n",
    "j= 0\n",
    "k= 0\n",
    "n= len(a)\n",
    "for i in range(0,n):\n",
    "    if a[i]<0:\n",
    "        x = a[i]\n",
    "        a[i]= a[j]\n",
    "        a[j]= x\n",
    "        j+=1\n",
    "print(a)\n",
    "\n",
    "#c = a\n",
    "#a = b\n",
    "#b=  c"
   ]
  },
  {
   "cell_type": "markdown",
   "metadata": {},
   "source": [
    "# 12. Python Program to Check Armstrong Number"
   ]
  },
  {
   "cell_type": "code",
   "execution_count": 16,
   "metadata": {},
   "outputs": [
    {
     "name": "stdout",
     "output_type": "stream",
     "text": [
      "enter the number 1\n",
      "1\n",
      "1 : its a Armstrong number\n"
     ]
    }
   ],
   "source": [
    "n = int(input(\"enter the number \"))\n",
    "i =0\n",
    "j = n\n",
    "while j>0:\n",
    "    remainder = j%10   #   3           5                        1\n",
    "    i+= (remainder)**3 #  27        (27+ 125)=152        (27+ 125+1)=153\n",
    "    print(i)\n",
    "    j=j//10            # 153           15                       1                  \n",
    "\n",
    "if i == n:\n",
    "    print(n,\": its a Armstrong number\")\n",
    "else:\n",
    "    print(n,\": its not  a Armstrong number\")\n",
    "\n"
   ]
  },
  {
   "cell_type": "code",
   "execution_count": null,
   "metadata": {},
   "outputs": [],
   "source": [
    "x = int(input('enter the number :'))\n",
    "x1 =x\n",
    "L = [] \n",
    "while x1 > 0:\n",
    "    i = (x1%10)**3\n",
    "    \n",
    "    L.append(i)\n",
    "    x1= x1//10\n",
    "if x == sum(L):\n",
    "    print(\" its arms strong no. \")\n",
    "else:\n",
    "    print(\"its not arms strong no.\")\n"
   ]
  },
  {
   "cell_type": "code",
   "execution_count": null,
   "metadata": {},
   "outputs": [],
   "source": []
  },
  {
   "cell_type": "markdown",
   "metadata": {},
   "source": [
    "# 13. Write a program which accepts a sequence of comma separated 4 digit binary numbers as its input and then check whether they are divisible by 5 or not. The numbers that are divisible by 5 are to be printed in a comma separated sequence.\n",
    "\n",
    "Example:\n",
    "\n",
    "0100,0011,1010,1001\n",
    "\n",
    "Then the output should be:\n",
    "\n",
    "1010\n",
    "\n"
   ]
  },
  {
   "cell_type": "code",
   "execution_count": 23,
   "metadata": {},
   "outputs": [
    {
     "name": "stdout",
     "output_type": "stream",
     "text": [
      "0100,0011,1010,1001\n",
      "1010\n"
     ]
    }
   ],
   "source": [
    "binary_num_div_by_5= []\n",
    "x_binary_list = [i for i in input().split(',')]\n",
    "for y_binary in x_binary_list:\n",
    "    num = int(y_binary, 2)\n",
    "    if not num %5:\n",
    "        binary_num_div_by_5.append(y_binary)\n",
    "print(' '.join(binary_num_div_by_5))\n"
   ]
  },
  {
   "cell_type": "markdown",
   "metadata": {},
   "source": [
    "# Check\n",
    "\n"
   ]
  },
  {
   "cell_type": "code",
   "execution_count": 3,
   "metadata": {},
   "outputs": [
    {
     "name": "stdout",
     "output_type": "stream",
     "text": [
      "0100,0011,1010,1001\n",
      "['0100', '0011', '1010', '1001']\n"
     ]
    }
   ],
   "source": [
    "x_binary = [i for i in input().split(',')]\n",
    "print(x_binary)"
   ]
  },
  {
   "cell_type": "code",
   "execution_count": 4,
   "metadata": {},
   "outputs": [
    {
     "name": "stdout",
     "output_type": "stream",
     "text": [
      "0100,0011,1010,1001\n",
      "['0', '1', '0', '0', ',', '0', '0', '1', '1', ',', '1', '0', '1', '0', ',', '1', '0', '0', '1']\n"
     ]
    }
   ],
   "source": [
    "x_binary = [i for i in input()]\n",
    "print(x_binary)"
   ]
  },
  {
   "cell_type": "code",
   "execution_count": 10,
   "metadata": {},
   "outputs": [
    {
     "ename": "TypeError",
     "evalue": "int() can't convert non-string with explicit base",
     "output_type": "error",
     "traceback": [
      "\u001b[1;31m---------------------------------------------------------------------------\u001b[0m",
      "\u001b[1;31mTypeError\u001b[0m                                 Traceback (most recent call last)",
      "\u001b[1;32m<ipython-input-10-343c04eb8dd2>\u001b[0m in \u001b[0;36m<module>\u001b[1;34m\u001b[0m\n\u001b[1;32m----> 1\u001b[1;33m \u001b[0mi\u001b[0m \u001b[1;33m=\u001b[0m \u001b[0mint\u001b[0m\u001b[1;33m(\u001b[0m\u001b[1;36m1010\u001b[0m\u001b[1;33m,\u001b[0m \u001b[1;36m2\u001b[0m\u001b[1;33m)\u001b[0m\u001b[1;33m\u001b[0m\u001b[1;33m\u001b[0m\u001b[0m\n\u001b[0m",
      "\u001b[1;31mTypeError\u001b[0m: int() can't convert non-string with explicit base"
     ]
    }
   ],
   "source": [
    "i = int(1010, 2)"
   ]
  },
  {
   "cell_type": "code",
   "execution_count": 11,
   "metadata": {},
   "outputs": [
    {
     "data": {
      "text/plain": [
       "10"
      ]
     },
     "execution_count": 11,
     "metadata": {},
     "output_type": "execute_result"
    }
   ],
   "source": [
    "i = int(\"1010\", 2)\n",
    "i"
   ]
  },
  {
   "cell_type": "code",
   "execution_count": 13,
   "metadata": {},
   "outputs": [
    {
     "data": {
      "text/plain": [
       "1010"
      ]
     },
     "execution_count": 13,
     "metadata": {},
     "output_type": "execute_result"
    }
   ],
   "source": [
    "i = int(\"1010\", 10)\n",
    "i"
   ]
  },
  {
   "cell_type": "code",
   "execution_count": 14,
   "metadata": {},
   "outputs": [
    {
     "data": {
      "text/plain": [
       "520"
      ]
     },
     "execution_count": 14,
     "metadata": {},
     "output_type": "execute_result"
    }
   ],
   "source": [
    "i = int(\"1010\", 8)\n",
    "i"
   ]
  },
  {
   "cell_type": "code",
   "execution_count": 22,
   "metadata": {},
   "outputs": [
    {
     "name": "stdout",
     "output_type": "stream",
     "text": [
      "0100,0011,1010,1001\n",
      "['1010']\n"
     ]
    }
   ],
   "source": [
    "binary_num_div_by_5= []\n",
    "x_binary_list = [i for i in input().split(',')]\n",
    "for y_binary in x_binary_list:\n",
    "    num = int(y_binary, 2)\n",
    "    if not num %5:\n",
    "        binary_num_div_by_5.append(y_binary)\n",
    "print(binary_num_div_by_5)\n"
   ]
  },
  {
   "cell_type": "markdown",
   "metadata": {},
   "source": [
    "# 14. A website requires the users to input username and password to register. Write a program to check the validity of password input by users.\n",
    "Following are the criteria for checking the password:\n",
    "\n",
    "1. At least 1 letter between [a-z]\n",
    "\n",
    "2. At least 1 number between [0-9]\n",
    "\n",
    "1. At least 1 letter between [A-Z]\n",
    "\n",
    "3. At least 1 character from [$#@]\n",
    "\n",
    "4. Minimum length of transaction password: 6\n",
    "\n",
    "5. Maximum length of transaction password: 12\n",
    "\n",
    "Your program should accept a sequence of comma separated passwords and will check them according to the above criteria. Passwords that match the criteria are to be printed, each separated by a comma."
   ]
  },
  {
   "cell_type": "code",
   "execution_count": 31,
   "metadata": {},
   "outputs": [
    {
     "name": "stdout",
     "output_type": "stream",
     "text": [
      "Input your passwordAssfd@13..,\\\\g\n",
      "Not a Valid Password\n"
     ]
    }
   ],
   "source": [
    "import re\n",
    "p= input(\"Input your password\")\n",
    "x = True\n",
    "while x:  \n",
    "    if (len(p)<6 or len(p)>12):\n",
    "        break\n",
    "    elif not re.search(\"[a-z]\",p):\n",
    "        break\n",
    "    elif not re.search(\"[0-9]\",p):\n",
    "        break\n",
    "    elif not re.search(\"[A-Z]\",p):\n",
    "        break\n",
    "    elif not re.search(\"[$#@]\",p):\n",
    "        break\n",
    "    elif re.search(\"\\s\",p):\n",
    "        break\n",
    "    else:\n",
    "        print(list(i for i in p))\n",
    "        x=False\n",
    "        break\n",
    "\n",
    "if x:\n",
    "    print(\"Not a Valid Password\")\n"
   ]
  },
  {
   "cell_type": "markdown",
   "metadata": {},
   "source": [
    "https://www.w3resource.com/python-exercises/python-conditional-statements-and-loop-exercises.php"
   ]
  },
  {
   "cell_type": "code",
   "execution_count": 25,
   "metadata": {},
   "outputs": [],
   "source": [
    "x =\"\\s\""
   ]
  },
  {
   "cell_type": "code",
   "execution_count": 26,
   "metadata": {},
   "outputs": [
    {
     "data": {
      "text/plain": [
       "'\\\\s'"
      ]
     },
     "execution_count": 26,
     "metadata": {},
     "output_type": "execute_result"
    }
   ],
   "source": [
    "x\n"
   ]
  },
  {
   "cell_type": "markdown",
   "metadata": {},
   "source": [
    "# 15 . You are required to write a program to sort the (name, age, height) tuples by ascending order where name is string, age and height are numbers. The tuples are input by console. The sort criteria is:\n",
    "1. Sort based on name;\n",
    "\n",
    "2. Then sort based on age;\n",
    "\n",
    "3. Then sort by score.\n",
    "\n",
    "The priority is that name > age > score.\n",
    "\n",
    "If the following tuples are given as input to the program:\n",
    "\n",
    "Tom,19,80\n",
    "\n",
    "John,20,90\n",
    "\n",
    "Jony,17,91\n",
    "\n",
    "Jony,17,93\n",
    "\n",
    "Json,21,85\n",
    "\n",
    "Then, the output of the program should be:\n",
    "\n",
    "[('John', '20', '90'), ('Jony', '17', '91'), ('Jony', '17', '93'), ('Json', '21', '85'), ('Tom', '19', '80')]"
   ]
  },
  {
   "cell_type": "code",
   "execution_count": 2,
   "metadata": {},
   "outputs": [
    {
     "name": "stdout",
     "output_type": "stream",
     "text": [
      "John,20,90\n",
      "[('John', '20', '90')]\n",
      "Json,21,85\n",
      "[('John', '20', '90'), ('Json', '21', '85')]\n",
      "\n",
      "[('John', '20', '90'), ('Json', '21', '85')]\n"
     ]
    }
   ],
   "source": [
    "from operator import itemgetter\n",
    "\n",
    "people_info = []\n",
    "while True:\n",
    "    individual_info = input()\n",
    "\n",
    "    if individual_info == \"\":\n",
    "        break\n",
    "    else:\n",
    "        people_info.append(tuple((individual_info.split(\",\"))))\n",
    "        \n",
    "\n",
    "people_info.sort(key =  itemgetter(0, 1, 2))       \n",
    "print(people_info)"
   ]
  },
  {
   "cell_type": "code",
   "execution_count": null,
   "metadata": {},
   "outputs": [],
   "source": []
  }
 ],
 "metadata": {
  "kernelspec": {
   "display_name": "Python 3",
   "language": "python",
   "name": "python3"
  },
  "language_info": {
   "codemirror_mode": {
    "name": "ipython",
    "version": 3
   },
   "file_extension": ".py",
   "mimetype": "text/x-python",
   "name": "python",
   "nbconvert_exporter": "python",
   "pygments_lexer": "ipython3",
   "version": "3.7.3"
  }
 },
 "nbformat": 4,
 "nbformat_minor": 2
}
