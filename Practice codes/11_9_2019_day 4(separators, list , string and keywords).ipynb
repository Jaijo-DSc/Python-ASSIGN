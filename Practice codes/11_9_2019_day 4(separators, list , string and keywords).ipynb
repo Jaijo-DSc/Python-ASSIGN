{
 "cells": [
  {
   "cell_type": "code",
   "execution_count": 1,
   "metadata": {},
   "outputs": [
    {
     "name": "stdout",
     "output_type": "stream",
     "text": [
      "1#2#3\n",
      "1 2 3\n",
      "abc#1 2 3\n",
      "abc\n",
      "\n",
      "12345\n"
     ]
    }
   ],
   "source": [
    "print(1,2,3, sep = '#')\n",
    "print(1,2,3, sep = ' ')\n",
    "print('abc', end = '#')\n",
    "print(1,2,3)\n",
    "print('abc', end = '\\n\\n')\n",
    "print('12345')"
   ]
  },
  {
   "cell_type": "markdown",
   "metadata": {},
   "source": [
    "###List\n",
    "\n",
    "-sequence\n",
    "\n",
    "-mutable\n",
    "\n",
    "-heterogenous\n",
    "\n",
    "-similar to but not an array\n"
   ]
  },
  {
   "cell_type": "code",
   "execution_count": 2,
   "metadata": {},
   "outputs": [
    {
     "name": "stdout",
     "output_type": "stream",
     "text": [
      "[10, 20, True, [1, 111]] <class 'list'> 4\n"
     ]
    }
   ],
   "source": [
    "r =[10,20,True,[1,111]]\n",
    "print(r,type(r),len(r) )\n"
   ]
  },
  {
   "cell_type": "code",
   "execution_count": 3,
   "metadata": {},
   "outputs": [
    {
     "name": "stdout",
     "output_type": "stream",
     "text": [
      "123.99 <class 'str'>\n"
     ]
    }
   ],
   "source": [
    "x = ('123.99')\n",
    "print(float(x),type(x))\n"
   ]
  },
  {
   "cell_type": "code",
   "execution_count": 4,
   "metadata": {},
   "outputs": [
    {
     "name": "stdout",
     "output_type": "stream",
     "text": [
      "[]\n",
      "[1, 2, 3]\n"
     ]
    }
   ],
   "source": [
    "r =list()\n",
    "print(r)\n",
    "a =[1,2,3]\n",
    "r =list(a)\n",
    "print(r)"
   ]
  },
  {
   "cell_type": "code",
   "execution_count": 5,
   "metadata": {},
   "outputs": [
    {
     "name": "stdout",
     "output_type": "stream",
     "text": [
      "[]\n",
      "['abcd']\n"
     ]
    }
   ],
   "source": [
    "r =list()\n",
    "print(r)\n",
    "a =[\"abcd\"]\n",
    "r =list(a)\n",
    "print(r)"
   ]
  },
  {
   "cell_type": "code",
   "execution_count": 6,
   "metadata": {},
   "outputs": [
    {
     "name": "stdout",
     "output_type": "stream",
     "text": [
      "['a', 'b', 'c', 'd']\n"
     ]
    }
   ],
   "source": [
    "r =list(\"abcd\")\n",
    "print(r)"
   ]
  },
  {
   "cell_type": "code",
   "execution_count": 7,
   "metadata": {},
   "outputs": [
    {
     "name": "stdout",
     "output_type": "stream",
     "text": [
      "['d', 'j', 'k', 'g', 'f', 'k', 'd']\n",
      "7\n"
     ]
    }
   ],
   "source": [
    "r =list(\"djkgfkd\")\n",
    "print(r)\n",
    "print(len(r))"
   ]
  },
  {
   "cell_type": "code",
   "execution_count": 8,
   "metadata": {},
   "outputs": [
    {
     "name": "stdout",
     "output_type": "stream",
     "text": [
      "1\n",
      "4\n",
      "6\n",
      "5\n",
      "[6, 5, 4, 3, 2, 1]\n"
     ]
    }
   ],
   "source": [
    "a =[1,2,3,4,5,6]\n",
    "print(a[0])\n",
    "print(a[3])\n",
    "print(a[-1])\n",
    "print(a[-2])\n",
    "print(a[::-1])# reverse"
   ]
  },
  {
   "cell_type": "code",
   "execution_count": 9,
   "metadata": {},
   "outputs": [],
   "source": [
    "a[0]= 1000"
   ]
  },
  {
   "cell_type": "code",
   "execution_count": 10,
   "metadata": {},
   "outputs": [
    {
     "name": "stdout",
     "output_type": "stream",
     "text": [
      "[1000, 2, 3, 4, 5, 6]\n"
     ]
    }
   ],
   "source": [
    "print(a)"
   ]
  },
  {
   "cell_type": "code",
   "execution_count": 11,
   "metadata": {},
   "outputs": [
    {
     "name": "stdout",
     "output_type": "stream",
     "text": [
      "989\n"
     ]
    }
   ],
   "source": [
    "print(a[0] -(a[-1]+a[-2]))"
   ]
  },
  {
   "cell_type": "code",
   "execution_count": 12,
   "metadata": {},
   "outputs": [
    {
     "name": "stdout",
     "output_type": "stream",
     "text": [
      "['A']\n"
     ]
    }
   ],
   "source": [
    "# immutable\n",
    "#s= ['abcd']\n",
    "#s[1] = \"A\"\n",
    "#print(s)\n",
    "\n",
    "s= ['abcd']\n",
    "s[0] = \"A\"\n",
    "print(s)\n"
   ]
  },
  {
   "cell_type": "code",
   "execution_count": 21,
   "metadata": {},
   "outputs": [
    {
     "name": "stdout",
     "output_type": "stream",
     "text": [
      "ABCD Abcd abcd\n"
     ]
    }
   ],
   "source": [
    "s= 'ABCD'\n",
    "s1= s.capitalize()\n",
    "s2=s.lower()\n",
    "print(s,s1,s2)"
   ]
  },
  {
   "cell_type": "markdown",
   "metadata": {},
   "source": [
    "# WAP to print all elements of this list a =[10,20,30,40,50]"
   ]
  },
  {
   "cell_type": "code",
   "execution_count": 25,
   "metadata": {},
   "outputs": [
    {
     "name": "stdout",
     "output_type": "stream",
     "text": [
      "10\n",
      "20\n",
      "30\n",
      "40\n",
      "50\n"
     ]
    }
   ],
   "source": [
    " a =[10,20,30,40,50]\n",
    "for i in a:\n",
    "    print(i)"
   ]
  },
  {
   "cell_type": "code",
   "execution_count": 28,
   "metadata": {},
   "outputs": [
    {
     "name": "stdout",
     "output_type": "stream",
     "text": [
      "10\n",
      "20\n",
      "30\n",
      "40\n",
      "50\n"
     ]
    }
   ],
   "source": [
    "a =[10,20,30,40,50]\n",
    "i = 0\n",
    "while i < len(a):\n",
    "    print(a[i])\n",
    "    i+=1"
   ]
  },
  {
   "cell_type": "markdown",
   "metadata": {},
   "source": [
    "#WAP to print square of all elements of this list a =[10,20,30,40,50]"
   ]
  },
  {
   "cell_type": "code",
   "execution_count": null,
   "metadata": {},
   "outputs": [],
   "source": []
  },
  {
   "cell_type": "code",
   "execution_count": 31,
   "metadata": {},
   "outputs": [
    {
     "name": "stdout",
     "output_type": "stream",
     "text": [
      "100\n",
      "400\n",
      "900\n",
      "1600\n",
      "2500\n",
      "[10, 20, 30, 40, 50]\n"
     ]
    }
   ],
   "source": [
    "a =[10,20,30,40,50]\n",
    "i = 0\n",
    "while i < len(a):\n",
    "    print(a[i]**2)\n",
    "    i+=1\n",
    "print(a)"
   ]
  },
  {
   "cell_type": "code",
   "execution_count": 38,
   "metadata": {},
   "outputs": [
    {
     "name": "stdout",
     "output_type": "stream",
     "text": [
      "['a', 'b', 'c', 'd', 'e']\n",
      "['b', 'c', 'd']\n",
      "['b', 'd']\n",
      "['e', 'c', 'a']\n",
      "['e', 'd', 'c', 'b', 'a']\n"
     ]
    }
   ],
   "source": [
    "a = list('abcde')\n",
    "     #    01234\n",
    "print(a)\n",
    "print(a[1:4])\n",
    "print(a[1::2])\n",
    "print(a[4::-2])\n",
    "print(a[::-1])"
   ]
  },
  {
   "cell_type": "markdown",
   "metadata": {},
   "source": [
    "# string"
   ]
  },
  {
   "cell_type": "code",
   "execution_count": 40,
   "metadata": {},
   "outputs": [
    {
     "name": "stdout",
     "output_type": "stream",
     "text": [
      "12\n"
     ]
    }
   ],
   "source": [
    "s = \"abcd 123 ABC\"\n",
    "print(len(s))"
   ]
  },
  {
   "cell_type": "code",
   "execution_count": 46,
   "metadata": {},
   "outputs": [
    {
     "name": "stdout",
     "output_type": "stream",
     "text": [
      "False\n",
      "True True\n",
      "True True\n",
      "ABC # %*D\n"
     ]
    }
   ],
   "source": [
    "p = \"abc # %*D\"\n",
    "q = \"ancvdefn\"\n",
    "r = \"ABC\"\n",
    "s = \"123\"\n",
    "print(p.isalpha())\n",
    "print(q.isalpha(),q.islower())\n",
    "print(r.isalpha(),r.isupper())\n",
    "\n",
    "print(p.upper())\n"
   ]
  },
  {
   "cell_type": "code",
   "execution_count": 49,
   "metadata": {},
   "outputs": [
    {
     "name": "stdout",
     "output_type": "stream",
     "text": [
      "3\n",
      "3\n",
      "2\n"
     ]
    }
   ],
   "source": [
    "s =\"abc ab abc\"\n",
    "#   0123456789\n",
    "print(s.count('a'))\n",
    "print(s.count('ab'))\n",
    "print(s.count(' '))"
   ]
  },
  {
   "cell_type": "code",
   "execution_count": 51,
   "metadata": {},
   "outputs": [
    {
     "name": "stdout",
     "output_type": "stream",
     "text": [
      "0\n",
      "0\n",
      "3\n",
      "4\n"
     ]
    }
   ],
   "source": [
    "s =\"abc ab abc\"\n",
    "#   0123456789\n",
    "print(s.find('a'))\n",
    "print(s.find('ab'))\n",
    "print(s.find(' '))\n",
    "print(s.find('a',4,9))"
   ]
  },
  {
   "cell_type": "markdown",
   "metadata": {},
   "source": [
    "# #### in keyword"
   ]
  },
  {
   "cell_type": "code",
   "execution_count": 53,
   "metadata": {},
   "outputs": [
    {
     "name": "stdout",
     "output_type": "stream",
     "text": [
      "True\n",
      "False\n",
      "True\n",
      "False\n"
     ]
    }
   ],
   "source": [
    "print('s' in 'pqrs')\n",
    "print('sq' in 'pqrs')\n",
    "print('rs' in 'pqrs')\n",
    "print('S' in 'pqrs')\n",
    "print('s' in 'pqrs')"
   ]
  },
  {
   "cell_type": "code",
   "execution_count": 67,
   "metadata": {},
   "outputs": [
    {
     "name": "stdout",
     "output_type": "stream",
     "text": [
      "False\n",
      "True\n",
      "False\n",
      "False\n"
     ]
    }
   ],
   "source": [
    "s =\"abc ab abc\"\n",
    "s1 =\"a\"\n",
    "s3 =\"a a\"\n",
    "s4 = \"3\"\n",
    "#   0123456789\n",
    "print(s.isidentifier())\n",
    "print(s1.isidentifier())\n",
    "print(s3.isidentifier())\n",
    "print(s4.isidentifier())"
   ]
  },
  {
   "cell_type": "markdown",
   "metadata": {},
   "source": [
    "###WAP to input a number and print sum of digits of the number"
   ]
  },
  {
   "cell_type": "code",
   "execution_count": 83,
   "metadata": {},
   "outputs": [
    {
     "name": "stdout",
     "output_type": "stream",
     "text": [
      "Entered number:12345\n",
      "15\n"
     ]
    }
   ],
   "source": [
    "a = (input('Entered number:' ))\n",
    "i=0\n",
    "s=0\n",
    "while i<len(a):\n",
    "    s =s+int(a[i])\n",
    "    i+=1\n",
    "print(s)"
   ]
  },
  {
   "cell_type": "code",
   "execution_count": 86,
   "metadata": {},
   "outputs": [
    {
     "name": "stdout",
     "output_type": "stream",
     "text": [
      "Entered number:1234\n",
      "10\n"
     ]
    }
   ],
   "source": [
    "a = int(input('Entered number:' ))\n",
    "s=0\n",
    "while a>0:\n",
    "    s =s+(a%10)\n",
    "    a=a//10\n",
    "print(s)"
   ]
  },
  {
   "cell_type": "code",
   "execution_count": null,
   "metadata": {},
   "outputs": [],
   "source": []
  }
 ],
 "metadata": {
  "kernelspec": {
   "display_name": "Python 3",
   "language": "python",
   "name": "python3"
  },
  "language_info": {
   "codemirror_mode": {
    "name": "ipython",
    "version": 3
   },
   "file_extension": ".py",
   "mimetype": "text/x-python",
   "name": "python",
   "nbconvert_exporter": "python",
   "pygments_lexer": "ipython3",
   "version": "3.7.3"
  }
 },
 "nbformat": 4,
 "nbformat_minor": 2
}
