{
 "cells": [
  {
   "cell_type": "code",
   "execution_count": 1,
   "metadata": {},
   "outputs": [],
   "source": [
    "# WAP to input a number and print its square"
   ]
  },
  {
   "cell_type": "code",
   "execution_count": 2,
   "metadata": {},
   "outputs": [
    {
     "name": "stdout",
     "output_type": "stream",
     "text": [
      "Enter a number: 5\n",
      "25\n",
      "\n",
      "25\n"
     ]
    }
   ],
   "source": [
    "x = int(input(\"Enter a number: \"))\n",
    "print(x**2)\n",
    "print()\n",
    "\n",
    "print (x*x)"
   ]
  },
  {
   "cell_type": "code",
   "execution_count": 3,
   "metadata": {},
   "outputs": [],
   "source": [
    "import numpy as np\n",
    "import math"
   ]
  },
  {
   "cell_type": "code",
   "execution_count": 4,
   "metadata": {},
   "outputs": [
    {
     "name": "stdout",
     "output_type": "stream",
     "text": [
      "Enter a number: 5\n",
      "25\n"
     ]
    }
   ],
   "source": [
    "x = int(input(\"Enter a number: \"))\n",
    "y = np.power(x,2)\n",
    "print(y)"
   ]
  },
  {
   "cell_type": "code",
   "execution_count": 5,
   "metadata": {},
   "outputs": [
    {
     "name": "stdout",
     "output_type": "stream",
     "text": [
      "Enter a number: 5\n",
      "125\n"
     ]
    }
   ],
   "source": [
    "x = int(input(\"Enter a number: \"))\n",
    "y = int(math.pow(x,3))\n",
    "print(y)"
   ]
  },
  {
   "cell_type": "code",
   "execution_count": 6,
   "metadata": {},
   "outputs": [],
   "source": [
    "#ascii letters\n",
    "import string"
   ]
  },
  {
   "cell_type": "code",
   "execution_count": 7,
   "metadata": {},
   "outputs": [],
   "source": [
    "x =string.ascii_letters\n"
   ]
  },
  {
   "cell_type": "code",
   "execution_count": 8,
   "metadata": {},
   "outputs": [],
   "source": [
    "#WAP to find weight of each alphabet "
   ]
  },
  {
   "cell_type": "code",
   "execution_count": 9,
   "metadata": {},
   "outputs": [
    {
     "name": "stdout",
     "output_type": "stream",
     "text": [
      "a = 97\n",
      "b = 98\n",
      "c = 99\n",
      "d = 100\n",
      "e = 101\n",
      "f = 102\n",
      "g = 103\n",
      "h = 104\n",
      "i = 105\n",
      "j = 106\n",
      "k = 107\n",
      "l = 108\n",
      "m = 109\n",
      "n = 110\n",
      "o = 111\n",
      "p = 112\n",
      "q = 113\n",
      "r = 114\n",
      "s = 115\n",
      "t = 116\n",
      "u = 117\n",
      "v = 118\n",
      "w = 119\n",
      "x = 120\n",
      "y = 121\n",
      "z = 122\n",
      "A = 65\n",
      "B = 66\n",
      "C = 67\n",
      "D = 68\n",
      "E = 69\n",
      "F = 70\n",
      "G = 71\n",
      "H = 72\n",
      "I = 73\n",
      "J = 74\n",
      "K = 75\n",
      "L = 76\n",
      "M = 77\n",
      "N = 78\n",
      "O = 79\n",
      "P = 80\n",
      "Q = 81\n",
      "R = 82\n",
      "S = 83\n",
      "T = 84\n",
      "U = 85\n",
      "V = 86\n",
      "W = 87\n",
      "X = 88\n",
      "Y = 89\n",
      "Z = 90\n"
     ]
    }
   ],
   "source": [
    "for var in x:\n",
    "    print(var,\"=\",ord(var))"
   ]
  },
  {
   "cell_type": "code",
   "execution_count": 10,
   "metadata": {},
   "outputs": [
    {
     "data": {
      "text/plain": [
       "'a'"
      ]
     },
     "execution_count": 10,
     "metadata": {},
     "output_type": "execute_result"
    }
   ],
   "source": [
    "chr(97)"
   ]
  },
  {
   "cell_type": "code",
   "execution_count": 11,
   "metadata": {},
   "outputs": [
    {
     "data": {
      "text/plain": [
       "'A'"
      ]
     },
     "execution_count": 11,
     "metadata": {},
     "output_type": "execute_result"
    }
   ],
   "source": [
    "chr(65)"
   ]
  },
  {
   "cell_type": "code",
   "execution_count": 12,
   "metadata": {},
   "outputs": [
    {
     "data": {
      "text/plain": [
       "'0123456789abcdefghijklmnopqrstuvwxyzABCDEFGHIJKLMNOPQRSTUVWXYZ!\"#$%&\\'()*+,-./:;<=>?@[\\\\]^_`{|}~ \\t\\n\\r\\x0b\\x0c'"
      ]
     },
     "execution_count": 12,
     "metadata": {},
     "output_type": "execute_result"
    }
   ],
   "source": [
    "string.printable"
   ]
  },
  {
   "cell_type": "code",
   "execution_count": 13,
   "metadata": {},
   "outputs": [],
   "source": [
    "import random"
   ]
  },
  {
   "cell_type": "code",
   "execution_count": 14,
   "metadata": {},
   "outputs": [],
   "source": [
    "x = random.randrange(10,20)"
   ]
  },
  {
   "cell_type": "code",
   "execution_count": 15,
   "metadata": {},
   "outputs": [
    {
     "data": {
      "text/plain": [
       "15"
      ]
     },
     "execution_count": 15,
     "metadata": {},
     "output_type": "execute_result"
    }
   ],
   "source": [
    "x"
   ]
  },
  {
   "cell_type": "code",
   "execution_count": 16,
   "metadata": {},
   "outputs": [],
   "source": [
    "y = random.randint(10,20)"
   ]
  },
  {
   "cell_type": "code",
   "execution_count": 17,
   "metadata": {},
   "outputs": [
    {
     "data": {
      "text/plain": [
       "14"
      ]
     },
     "execution_count": 17,
     "metadata": {},
     "output_type": "execute_result"
    }
   ],
   "source": [
    "y"
   ]
  },
  {
   "cell_type": "code",
   "execution_count": 18,
   "metadata": {},
   "outputs": [
    {
     "name": "stdout",
     "output_type": "stream",
     "text": [
      "x: 10\n",
      "x: 13\n",
      "x: 14\n",
      "x: 16\n",
      "x: 14\n",
      "x: 16\n",
      "x: 16\n",
      "x: 15\n",
      "x: 10\n",
      "x: 11\n",
      "x: 13\n",
      "x: 17\n",
      "x: 19\n",
      "x: 14\n",
      "x: 14\n",
      "x: 16\n",
      "x: 12\n",
      "x: 13\n",
      "x: 12\n",
      "x: 14\n",
      "x: 15\n",
      "x: 15\n",
      "x: 16\n",
      "x: 18\n",
      "x: 15\n",
      "x: 16\n",
      "x: 19\n",
      "x: 17\n",
      "x: 11\n",
      "x: 15\n",
      "x: 18\n",
      "x: 14\n",
      "x: 19\n",
      "x: 13\n",
      "x: 12\n",
      "x: 12\n",
      "x: 15\n",
      "x: 14\n",
      "x: 18\n",
      "x: 14\n",
      "x: 12\n",
      "x: 17\n",
      "x: 18\n",
      "x: 13\n",
      "x: 17\n",
      "x: 13\n",
      "x: 15\n",
      "x: 15\n",
      "x: 19\n",
      "x: 14\n",
      "x: 11\n",
      "x: 19\n"
     ]
    }
   ],
   "source": [
    "for value in string.ascii_letters:\n",
    "    print(\"x:\", random.randrange(10,20) )\n",
    "    \n",
    "    "
   ]
  },
  {
   "cell_type": "code",
   "execution_count": 19,
   "metadata": {},
   "outputs": [
    {
     "name": "stdout",
     "output_type": "stream",
     "text": [
      "y: 11\n",
      "y: 10\n",
      "y: 11\n",
      "y: 10\n",
      "y: 15\n",
      "y: 10\n",
      "y: 19\n",
      "y: 20\n",
      "y: 10\n",
      "y: 15\n",
      "y: 12\n",
      "y: 15\n",
      "y: 17\n",
      "y: 15\n",
      "y: 16\n",
      "y: 13\n",
      "y: 19\n",
      "y: 20\n",
      "y: 13\n",
      "y: 17\n",
      "y: 17\n",
      "y: 19\n",
      "y: 20\n",
      "y: 11\n",
      "y: 18\n",
      "y: 18\n",
      "y: 19\n",
      "y: 16\n",
      "y: 20\n",
      "y: 12\n",
      "y: 12\n",
      "y: 17\n",
      "y: 13\n",
      "y: 11\n",
      "y: 13\n",
      "y: 18\n",
      "y: 20\n",
      "y: 16\n",
      "y: 20\n",
      "y: 11\n",
      "y: 18\n",
      "y: 15\n",
      "y: 19\n",
      "y: 19\n",
      "y: 20\n",
      "y: 18\n",
      "y: 20\n",
      "y: 14\n",
      "y: 10\n",
      "y: 19\n",
      "y: 12\n",
      "y: 17\n"
     ]
    }
   ],
   "source": [
    "for value in string.ascii_letters:\n",
    "\n",
    "    print(\"y:\", random.randint(10,20))"
   ]
  },
  {
   "cell_type": "code",
   "execution_count": 20,
   "metadata": {},
   "outputs": [],
   "source": [
    "# WAP to generate 2 random no.(1-100) and print their sum and avg for 10 times\n",
    "# while Loop"
   ]
  },
  {
   "cell_type": "code",
   "execution_count": 21,
   "metadata": {},
   "outputs": [
    {
     "name": "stdout",
     "output_type": "stream",
     "text": [
      "sum of x and y is: 112\n",
      "avg of x and y is: 56.0\n",
      "sum of x and y is: 72\n",
      "avg of x and y is: 36.0\n",
      "sum of x and y is: 154\n",
      "avg of x and y is: 77.0\n",
      "sum of x and y is: 39\n",
      "avg of x and y is: 19.5\n",
      "sum of x and y is: 127\n",
      "avg of x and y is: 63.5\n",
      "sum of x and y is: 69\n",
      "avg of x and y is: 34.5\n",
      "sum of x and y is: 66\n",
      "avg of x and y is: 33.0\n",
      "sum of x and y is: 77\n",
      "avg of x and y is: 38.5\n",
      "sum of x and y is: 135\n",
      "avg of x and y is: 67.5\n",
      "sum of x and y is: 57\n",
      "avg of x and y is: 28.5\n"
     ]
    }
   ],
   "source": [
    "i =0\n",
    "while i<10:\n",
    "    x = random.randint(1,100)\n",
    "    y = random.randint(1,100)\n",
    "\n",
    "    print(\"sum of x and y is:\" ,(x+y))\n",
    "\n",
    "    print(\"avg of x and y is:\" ,(x+y)/2)\n",
    "    \n",
    "    i+=1\n",
    "\n",
    "    "
   ]
  },
  {
   "cell_type": "code",
   "execution_count": 22,
   "metadata": {},
   "outputs": [],
   "source": [
    "# WAP to find sum of number from 1 to n,hint   s(n) = (n*(n+1)/2), n =1 >s(1)= 1(2/2)= 1,\n",
    "#s(2) = 1+2 = 3, s(3) 1+2+3= 6=> 3(3+1)/2 = 6 "
   ]
  },
  {
   "cell_type": "code",
   "execution_count": 24,
   "metadata": {},
   "outputs": [
    {
     "name": "stdout",
     "output_type": "stream",
     "text": [
      "enter the value of n:5\n",
      "[1, 2, 3, 4, 5]\n"
     ]
    },
    {
     "data": {
      "text/plain": [
       "15"
      ]
     },
     "execution_count": 24,
     "metadata": {},
     "output_type": "execute_result"
    }
   ],
   "source": [
    "n= int(input(\"enter the value of n:\"))\n",
    "x = range(1,n+1,1)\n",
    "l = []\n",
    "for value in x:\n",
    "    l.append(value)\n",
    "print(l)\n",
    "sum(l)"
   ]
  },
  {
   "cell_type": "code",
   "execution_count": 25,
   "metadata": {},
   "outputs": [
    {
     "name": "stdout",
     "output_type": "stream",
     "text": [
      "Enter a number:5\n",
      "15.0\n"
     ]
    }
   ],
   "source": [
    "n = int(input('Enter a number:',))\n",
    "print(n*(n+1)/2)"
   ]
  },
  {
   "cell_type": "code",
   "execution_count": 26,
   "metadata": {},
   "outputs": [],
   "source": [
    "x = range(1,5,1)"
   ]
  },
  {
   "cell_type": "code",
   "execution_count": 27,
   "metadata": {},
   "outputs": [
    {
     "data": {
      "text/plain": [
       "range(1, 5)"
      ]
     },
     "execution_count": 27,
     "metadata": {},
     "output_type": "execute_result"
    }
   ],
   "source": [
    "x"
   ]
  },
  {
   "cell_type": "code",
   "execution_count": 28,
   "metadata": {},
   "outputs": [
    {
     "name": "stdout",
     "output_type": "stream",
     "text": [
      "range(1, 5)\n"
     ]
    }
   ],
   "source": [
    "print(x)"
   ]
  },
  {
   "cell_type": "code",
   "execution_count": 29,
   "metadata": {},
   "outputs": [
    {
     "name": "stdout",
     "output_type": "stream",
     "text": [
      "enter6]n\n",
      "entern\n",
      "1\n"
     ]
    }
   ],
   "source": [
    "s = input(\"enter\")\n",
    "i =0\n",
    "while s!=\"n\":\n",
    "    s = input(\"enter\")\n",
    "    i+=1\n",
    "print(i)"
   ]
  },
  {
   "cell_type": "code",
   "execution_count": 30,
   "metadata": {},
   "outputs": [],
   "source": [
    "# WAP to input a string and print ascii value of each character"
   ]
  },
  {
   "cell_type": "code",
   "execution_count": 31,
   "metadata": {},
   "outputs": [
    {
     "name": "stdout",
     "output_type": "stream",
     "text": [
      "enter a string:fghj\n",
      "f = 102\n",
      "g = 103\n",
      "h = 104\n",
      "j = 106\n",
      "4\n"
     ]
    }
   ],
   "source": [
    "s = input(\"enter a string:\" )\n",
    "i=0\n",
    "while i<len(s):\n",
    "    print(s[i],\"=\",ord(s[i]))\n",
    "    i = i+1\n",
    "print(len(s))"
   ]
  },
  {
   "cell_type": "code",
   "execution_count": 32,
   "metadata": {},
   "outputs": [],
   "source": [
    "# WAP to input a string and find sum ascii value of each character"
   ]
  },
  {
   "cell_type": "code",
   "execution_count": 33,
   "metadata": {},
   "outputs": [
    {
     "name": "stdout",
     "output_type": "stream",
     "text": [
      "enter a string:vbnm\n",
      "v = 118\n",
      "b = 98\n",
      "n = 110\n",
      "m = 109\n",
      "435\n"
     ]
    }
   ],
   "source": [
    "s = input(\"enter a string:\" )\n",
    "i=0\n",
    "l=[]\n",
    "while i<len(s):\n",
    "    print(s[i],\"=\",ord(s[i]))\n",
    "    l.append(ord(s[i]))\n",
    "    i = i+1\n",
    "print(sum(l))"
   ]
  },
  {
   "cell_type": "code",
   "execution_count": 34,
   "metadata": {},
   "outputs": [
    {
     "name": "stdout",
     "output_type": "stream",
     "text": [
      "['asdf', 'hjk', 'kl']\n"
     ]
    }
   ],
   "source": [
    "s =(\"asdf hjk kl\")\n",
    "print(s.split())"
   ]
  },
  {
   "cell_type": "code",
   "execution_count": 35,
   "metadata": {},
   "outputs": [
    {
     "name": "stdout",
     "output_type": "stream",
     "text": [
      "['', 'sdf hjk kl']\n"
     ]
    }
   ],
   "source": [
    "print(s.split(\"a\"))"
   ]
  },
  {
   "cell_type": "code",
   "execution_count": 36,
   "metadata": {},
   "outputs": [
    {
     "name": "stdout",
     "output_type": "stream",
     "text": [
      "['asdf hjk kl']\n"
     ]
    }
   ],
   "source": [
    "print(s.split(\"ab\"))"
   ]
  },
  {
   "cell_type": "code",
   "execution_count": 37,
   "metadata": {},
   "outputs": [
    {
     "name": "stdout",
     "output_type": "stream",
     "text": [
      "['as', ' hjk kl']\n"
     ]
    }
   ],
   "source": [
    "print(s.split(\"df\"))"
   ]
  },
  {
   "cell_type": "code",
   "execution_count": 38,
   "metadata": {},
   "outputs": [],
   "source": [
    "#WAP to input a string and print length of each words"
   ]
  },
  {
   "cell_type": "code",
   "execution_count": 39,
   "metadata": {},
   "outputs": [
    {
     "name": "stdout",
     "output_type": "stream",
     "text": [
      "('asd', 3)\n",
      "('fg', 2)\n",
      "('hj', 2)\n"
     ]
    }
   ],
   "source": [
    "s = (\" asd fg hj\")\n",
    "s =s.split()\n",
    "i = 0\n",
    "while i<len(s):\n",
    "    print((s[i], len(s[i])))\n",
    "    i+=1"
   ]
  },
  {
   "cell_type": "code",
   "execution_count": 40,
   "metadata": {},
   "outputs": [],
   "source": [
    "s = (\" asd fg hj\")\n",
    "\n",
    "l = list(s)\n"
   ]
  },
  {
   "cell_type": "code",
   "execution_count": 41,
   "metadata": {},
   "outputs": [
    {
     "data": {
      "text/plain": [
       "[' ', 'a', 's', 'd', ' ', 'f', 'g', ' ', 'h', 'j']"
      ]
     },
     "execution_count": 41,
     "metadata": {},
     "output_type": "execute_result"
    }
   ],
   "source": [
    "l"
   ]
  },
  {
   "cell_type": "code",
   "execution_count": 42,
   "metadata": {},
   "outputs": [],
   "source": [
    "# WAp to input numbers seperated by \",\" and then convert it to list of ints"
   ]
  },
  {
   "cell_type": "code",
   "execution_count": 43,
   "metadata": {},
   "outputs": [
    {
     "name": "stdout",
     "output_type": "stream",
     "text": [
      "enter no.:85\n",
      "[85]\n"
     ]
    }
   ],
   "source": [
    "x = (input('enter no.:'))\n",
    "x = x.split(\",\")\n",
    "x = list(x)\n",
    "i = 0\n",
    "while i<len(x):\n",
    "    x[i] = int(x[i])\n",
    "    i+=1\n",
    "print(x)\n",
    "\n"
   ]
  },
  {
   "cell_type": "code",
   "execution_count": 44,
   "metadata": {},
   "outputs": [],
   "source": [
    "s =(\"df,g,hjkl\")"
   ]
  },
  {
   "cell_type": "code",
   "execution_count": 45,
   "metadata": {},
   "outputs": [
    {
     "data": {
      "text/plain": [
       "'d f , g , h j k l'"
      ]
     },
     "execution_count": 45,
     "metadata": {},
     "output_type": "execute_result"
    }
   ],
   "source": [
    "\" \".join(s)"
   ]
  },
  {
   "cell_type": "code",
   "execution_count": 46,
   "metadata": {},
   "outputs": [],
   "source": [
    "s =(\"df\",\"g\",\"hjkl\")"
   ]
  },
  {
   "cell_type": "code",
   "execution_count": 47,
   "metadata": {},
   "outputs": [
    {
     "data": {
      "text/plain": [
       "'df g hjkl'"
      ]
     },
     "execution_count": 47,
     "metadata": {},
     "output_type": "execute_result"
    }
   ],
   "source": [
    "\" \".join(s)"
   ]
  },
  {
   "cell_type": "code",
   "execution_count": 48,
   "metadata": {},
   "outputs": [
    {
     "data": {
      "text/plain": [
       "'df$g$hjkl'"
      ]
     },
     "execution_count": 48,
     "metadata": {},
     "output_type": "execute_result"
    }
   ],
   "source": [
    "s =[\"df\",\"g\",\"hjkl\"]\n",
    "s =\"$\".join(s)\n",
    "s"
   ]
  },
  {
   "cell_type": "code",
   "execution_count": 49,
   "metadata": {},
   "outputs": [
    {
     "name": "stdout",
     "output_type": "stream",
     "text": [
      "True\n"
     ]
    }
   ],
   "source": [
    "s = \"123456\"\n",
    "print(s.isdigit())"
   ]
  },
  {
   "cell_type": "code",
   "execution_count": 50,
   "metadata": {},
   "outputs": [],
   "source": [
    "###WAP to input a string and count no of \"a\" alphbets"
   ]
  },
  {
   "cell_type": "code",
   "execution_count": 51,
   "metadata": {},
   "outputs": [
    {
     "name": "stdout",
     "output_type": "stream",
     "text": [
      "enter a string: fghjkl\n",
      "['f', 'g', 'h', 'j', 'k', 'l']\n",
      "0\n"
     ]
    }
   ],
   "source": [
    "s = input(\"enter a string: \")\n",
    "s= list(s)\n",
    "print(s)\n",
    "i = 0\n",
    "count=0\n",
    "while i <len(s):\n",
    "    if s[i]==\"a\":\n",
    "        count+=1\n",
    "        i+=1\n",
    "    else:\n",
    "        i+=1\n",
    "print(count)\n",
    "    "
   ]
  },
  {
   "cell_type": "code",
   "execution_count": 52,
   "metadata": {},
   "outputs": [],
   "source": [
    "###WAP to input a string and count no of  alphbets ocurrance "
   ]
  },
  {
   "cell_type": "code",
   "execution_count": 53,
   "metadata": {},
   "outputs": [
    {
     "name": "stdout",
     "output_type": "stream",
     "text": [
      " a = 11 \n",
      " e = 1 \n",
      " i = 1\n"
     ]
    }
   ],
   "source": [
    "s = \"asdfghjasdfghjklasdfghjnmlriueAAAAAAaaywfsdcj\"\n",
    "s = s.lower()\n",
    "print(\"\",\"a =\",s.count(\"a\"),\"\\n\",\"e =\",s.count(\"e\"),\"\\n\",\"i =\",s.count(\"i\"))"
   ]
  },
  {
   "cell_type": "code",
   "execution_count": 54,
   "metadata": {},
   "outputs": [],
   "source": [
    "#pallindrome"
   ]
  },
  {
   "cell_type": "code",
   "execution_count": 55,
   "metadata": {},
   "outputs": [
    {
     "name": "stdout",
     "output_type": "stream",
     "text": [
      "agfdsa\n",
      "not pallindrome\n"
     ]
    }
   ],
   "source": [
    "s =[\"not pallindrome\", \"pallindrome\"]\n",
    "x = \"asdfga\"\n",
    "x1 = x[::-1]\n",
    "print(x1)\n",
    "print (s[x1==x])"
   ]
  },
  {
   "cell_type": "code",
   "execution_count": 56,
   "metadata": {},
   "outputs": [],
   "source": [
    "#for\n",
    "#WAP to print first 10 natural numbers"
   ]
  },
  {
   "cell_type": "code",
   "execution_count": 57,
   "metadata": {},
   "outputs": [],
   "source": [
    "x = range(1,11)"
   ]
  },
  {
   "cell_type": "code",
   "execution_count": 58,
   "metadata": {},
   "outputs": [
    {
     "data": {
      "text/plain": [
       "range(1, 11)"
      ]
     },
     "execution_count": 58,
     "metadata": {},
     "output_type": "execute_result"
    }
   ],
   "source": [
    "x"
   ]
  },
  {
   "cell_type": "code",
   "execution_count": 59,
   "metadata": {},
   "outputs": [
    {
     "name": "stdout",
     "output_type": "stream",
     "text": [
      "1\n",
      "2\n",
      "3\n",
      "4\n",
      "5\n",
      "6\n",
      "7\n",
      "8\n",
      "9\n",
      "10\n"
     ]
    }
   ],
   "source": [
    "for val in x:\n",
    "    print(val)"
   ]
  },
  {
   "cell_type": "code",
   "execution_count": 60,
   "metadata": {},
   "outputs": [],
   "source": [
    "#while\n",
    "#WAP to print first 10 natural numbers"
   ]
  },
  {
   "cell_type": "code",
   "execution_count": 61,
   "metadata": {},
   "outputs": [
    {
     "name": "stdout",
     "output_type": "stream",
     "text": [
      "1\n",
      "2\n",
      "3\n",
      "4\n",
      "5\n",
      "6\n",
      "7\n",
      "8\n",
      "9\n",
      "10\n"
     ]
    }
   ],
   "source": [
    "i =0\n",
    "while i<10:\n",
    "    print(i+1)\n",
    "    i+=1"
   ]
  },
  {
   "cell_type": "code",
   "execution_count": 62,
   "metadata": {},
   "outputs": [],
   "source": [
    "x = \"1234567891234567123456343\"\n",
    "x = list(x)"
   ]
  },
  {
   "cell_type": "code",
   "execution_count": 63,
   "metadata": {},
   "outputs": [
    {
     "name": "stdout",
     "output_type": "stream",
     "text": [
      "5\n"
     ]
    }
   ],
   "source": [
    "i= 0\n",
    "c =0\n",
    "for val in x:\n",
    "    if x[i]==\"3\":\n",
    "        c=c+1\n",
    "        i+=1\n",
    "    else:\n",
    "        i+=1\n",
    "print(c)\n",
    "        "
   ]
  },
  {
   "cell_type": "code",
   "execution_count": 64,
   "metadata": {},
   "outputs": [],
   "source": [
    "#WAp to find exp with out func"
   ]
  },
  {
   "cell_type": "code",
   "execution_count": 66,
   "metadata": {},
   "outputs": [
    {
     "name": "stdout",
     "output_type": "stream",
     "text": [
      "enter the base: 2\n",
      "enter the exp: 5\n",
      "2\n",
      "4\n",
      "8\n",
      "16\n",
      "32\n"
     ]
    }
   ],
   "source": [
    "b = int(input(\"enter the base: \"))\n",
    "e = int(input(\"enter the exp: \"))\n",
    "i =1\n",
    "for var in range(e):\n",
    "    i = i*b\n",
    "    print(i)"
   ]
  },
  {
   "cell_type": "code",
   "execution_count": 67,
   "metadata": {},
   "outputs": [],
   "source": [
    "# WAF fuct(n) and returns factorial of n!"
   ]
  },
  {
   "cell_type": "code",
   "execution_count": 68,
   "metadata": {},
   "outputs": [
    {
     "name": "stdout",
     "output_type": "stream",
     "text": [
      "enter the n :5\n",
      "1,2,3,4,5,"
     ]
    }
   ],
   "source": [
    "def funct(n):\n",
    "    for var in range(1,n+1):\n",
    "        print(var,end = \",\")\n",
    "n = int(input(\"enter the n :\"))\n",
    "funct(n)\n",
    "    "
   ]
  },
  {
   "cell_type": "code",
   "execution_count": 69,
   "metadata": {},
   "outputs": [],
   "source": [
    "## WAp get rand_list() which should a list of   5 random numbres"
   ]
  },
  {
   "cell_type": "code",
   "execution_count": 85,
   "metadata": {},
   "outputs": [
    {
     "name": "stdout",
     "output_type": "stream",
     "text": [
      "vhbj5\n"
     ]
    },
    {
     "data": {
      "text/plain": [
       "[2, 66, 30, 56, 58]"
      ]
     },
     "execution_count": 85,
     "metadata": {},
     "output_type": "execute_result"
    }
   ],
   "source": [
    "def rand_list(n):\n",
    "    l =[]\n",
    "    for var in range(0,n):\n",
    "        x = random.randint(1,100)\n",
    "        l.append(x)\n",
    "    return(l)\n",
    "n= int(input(\"vhbj\"))\n",
    "rand_list(n)\n",
    "    "
   ]
  },
  {
   "cell_type": "code",
   "execution_count": 82,
   "metadata": {},
   "outputs": [
    {
     "name": "stdout",
     "output_type": "stream",
     "text": [
      "[1]\n",
      "[42]\n",
      "[19]\n",
      "[97]\n",
      "[2]\n",
      "[2]\n"
     ]
    }
   ],
   "source": [
    "for var in range(0,5):\n",
    "       \n",
    "        x = random.randint(1,100)\n",
    "        l.append(x)\n",
    "        print(l)\n",
    "print(l)"
   ]
  },
  {
   "cell_type": "code",
   "execution_count": null,
   "metadata": {},
   "outputs": [],
   "source": [
    "x"
   ]
  },
  {
   "cell_type": "code",
   "execution_count": null,
   "metadata": {},
   "outputs": [],
   "source": []
  }
 ],
 "metadata": {
  "kernelspec": {
   "display_name": "Python 3",
   "language": "python",
   "name": "python3"
  },
  "language_info": {
   "codemirror_mode": {
    "name": "ipython",
    "version": 3
   },
   "file_extension": ".py",
   "mimetype": "text/x-python",
   "name": "python",
   "nbconvert_exporter": "python",
   "pygments_lexer": "ipython3",
   "version": "3.7.3"
  }
 },
 "nbformat": 4,
 "nbformat_minor": 2
}
