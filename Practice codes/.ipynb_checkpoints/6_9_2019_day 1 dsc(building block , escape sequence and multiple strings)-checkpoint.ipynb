{
 "cells": [
  {
   "cell_type": "code",
   "execution_count": 1,
   "metadata": {},
   "outputs": [
    {
     "name": "stdout",
     "output_type": "stream",
     "text": [
      "['False', 'None', 'True', 'and', 'as', 'assert', 'async', 'await', 'break', 'class', 'continue', 'def', 'del', 'elif', 'else', 'except', 'finally', 'for', 'from', 'global', 'if', 'import', 'in', 'is', 'lambda', 'nonlocal', 'not', 'or', 'pass', 'raise', 'return', 'try', 'while', 'with', 'yield']\n"
     ]
    }
   ],
   "source": [
    "import keyword\n",
    "print (keyword.kwlist)"
   ]
  },
  {
   "cell_type": "code",
   "execution_count": 2,
   "metadata": {},
   "outputs": [],
   "source": [
    "# python is a dynamically type language"
   ]
  },
  {
   "cell_type": "code",
   "execution_count": 3,
   "metadata": {},
   "outputs": [
    {
     "name": "stdout",
     "output_type": "stream",
     "text": [
      "3\n"
     ]
    }
   ],
   "source": [
    "x = 1# x is identifier\n",
    "y =2# = operator , 1 = integer (literal)\n",
    "print(x+y)# print is an a identifier its a function, () is operator"
   ]
  },
  {
   "cell_type": "code",
   "execution_count": 1,
   "metadata": {},
   "outputs": [],
   "source": [
    "# identifier\n",
    "x =1 \n",
    "_x = 1\n",
    "__x= 1\n",
    "x__=1\n",
    "x= 1 # not valid"
   ]
  },
  {
   "cell_type": "code",
   "execution_count": 2,
   "metadata": {},
   "outputs": [
    {
     "name": "stdout",
     "output_type": "stream",
     "text": [
      "<class 'int'> <class 'str'> <class 'float'> <class 'bool'>\n"
     ]
    }
   ],
   "source": [
    "#type\n",
    "print(type(1),\n",
    "type(\"a\"),\n",
    "type(1.1),\n",
    "type(True))"
   ]
  },
  {
   "cell_type": "code",
   "execution_count": 5,
   "metadata": {},
   "outputs": [
    {
     "name": "stdout",
     "output_type": "stream",
     "text": [
      "<built-in function print>\n",
      "<built-in function dir>\n",
      "<class 'type'>\n"
     ]
    }
   ],
   "source": [
    "print(print)\n",
    "print(dir)\n",
    "print(type)"
   ]
  },
  {
   "cell_type": "code",
   "execution_count": 6,
   "metadata": {},
   "outputs": [
    {
     "name": "stdout",
     "output_type": "stream",
     "text": [
      "abcd\n",
      "x\n",
      "1 2 ABCD True\n"
     ]
    }
   ],
   "source": [
    "x= 'abcd'\n",
    "print(x)\n",
    "print('x')\n",
    "print(1,2,'ABCD',True)"
   ]
  },
  {
   "cell_type": "code",
   "execution_count": 7,
   "metadata": {},
   "outputs": [
    {
     "name": "stdout",
     "output_type": "stream",
     "text": [
      "abc \n",
      "de\tfg\n"
     ]
    }
   ],
   "source": [
    "### Escape sequence\n",
    "s = 'abc \\nde\\tfg'# \\n new line & \\t tab\n",
    "print(s)"
   ]
  },
  {
   "cell_type": "code",
   "execution_count": 8,
   "metadata": {},
   "outputs": [
    {
     "name": "stdout",
     "output_type": "stream",
     "text": [
      "jai\"jo\n"
     ]
    }
   ],
   "source": [
    "s = \"jai\\\"jo\"# if want to use a quote in between the start and end quote'\\' is used \n",
    "print(s)"
   ]
  },
  {
   "cell_type": "code",
   "execution_count": 9,
   "metadata": {},
   "outputs": [
    {
     "name": "stdout",
     "output_type": "stream",
     "text": [
      "john\"son\n"
     ]
    }
   ],
   "source": [
    "x = \"john\\\"son\"\n",
    "print(x)"
   ]
  },
  {
   "cell_type": "code",
   "execution_count": 10,
   "metadata": {},
   "outputs": [
    {
     "name": "stdout",
     "output_type": "stream",
     "text": [
      "abc \\nde\\tfg\n"
     ]
    }
   ],
   "source": [
    "s = r'abc \\nde\\tfg'# \\n new line & \\t tab you want to avoid to function that and just use that \\n and all use 'r'  in start\n",
    "print(s)"
   ]
  },
  {
   "cell_type": "code",
   "execution_count": 11,
   "metadata": {},
   "outputs": [
    {
     "name": "stdout",
     "output_type": "stream",
     "text": [
      "abc\\n\\t\\ra\n"
     ]
    }
   ],
   "source": [
    "\n",
    "print(r'abc\\n\\t\\ra')"
   ]
  },
  {
   "cell_type": "code",
   "execution_count": 12,
   "metadata": {},
   "outputs": [
    {
     "name": "stdout",
     "output_type": "stream",
     "text": [
      "abc\n",
      "    pqr\n",
      "        123\n"
     ]
    }
   ],
   "source": [
    "#Multiline string\n",
    "s = '''abc\n",
    "    pqr\n",
    "        123'''\n",
    "print(s)# formating of writting remain same"
   ]
  },
  {
   "cell_type": "code",
   "execution_count": 13,
   "metadata": {},
   "outputs": [
    {
     "name": "stdout",
     "output_type": "stream",
     "text": [
      "abcbcd\n"
     ]
    }
   ],
   "source": [
    "s1 = 'abc'\n",
    "s2 = 'bcd'\n",
    "s3 = s1 +s2\n",
    "print(s3)"
   ]
  },
  {
   "cell_type": "code",
   "execution_count": 16,
   "metadata": {},
   "outputs": [
    {
     "name": "stdout",
     "output_type": "stream",
     "text": [
      "abc123\n",
      "abc123abc123abc123\n"
     ]
    }
   ],
   "source": [
    "s1 = 'abc'# can be added but no other operations\n",
    "s2 = '123'\n",
    "s3 = s1 + s2\n",
    "print(s3)\n",
    "print(s3*3)"
   ]
  },
  {
   "cell_type": "code",
   "execution_count": 17,
   "metadata": {},
   "outputs": [
    {
     "name": "stdout",
     "output_type": "stream",
     "text": [
      "dfbjdsjfnksfvnk             ..........................................             \\                                                                                 ...................................................sddwdf\n"
     ]
    }
   ],
   "source": [
    "s = 'dfbjdsjfnksfvnk             ..........................................             \\                                                                                 ...................................................sddwdf'\n",
    "print(s)\n"
   ]
  },
  {
   "cell_type": "code",
   "execution_count": 18,
   "metadata": {},
   "outputs": [
    {
     "name": "stdout",
     "output_type": "stream",
     "text": [
      "70\n"
     ]
    }
   ],
   "source": [
    "x = 10 + 20\\\n",
    "*3\n",
    "print(x)# \\ also contiune the operation in next line "
   ]
  }
 ],
 "metadata": {
  "kernelspec": {
   "display_name": "Python 3",
   "language": "python",
   "name": "python3"
  },
  "language_info": {
   "codemirror_mode": {
    "name": "ipython",
    "version": 3
   },
   "file_extension": ".py",
   "mimetype": "text/x-python",
   "name": "python",
   "nbconvert_exporter": "python",
   "pygments_lexer": "ipython3",
   "version": "3.7.3"
  }
 },
 "nbformat": 4,
 "nbformat_minor": 2
}
