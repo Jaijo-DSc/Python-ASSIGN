{
 "cells": [
  {
   "cell_type": "markdown",
   "metadata": {},
   "source": [
    "##tuple\n",
    "immutability\n",
    "operations\n",
    "slicing\n"
   ]
  },
  {
   "cell_type": "code",
   "execution_count": 1,
   "metadata": {},
   "outputs": [
    {
     "name": "stdout",
     "output_type": "stream",
     "text": [
      "() <class 'tuple'>\n"
     ]
    }
   ],
   "source": [
    "x = ()\n",
    "print(x,type(x))\n"
   ]
  },
  {
   "cell_type": "code",
   "execution_count": 2,
   "metadata": {},
   "outputs": [
    {
     "name": "stdout",
     "output_type": "stream",
     "text": [
      "(1, 2, [(), 'string'], 'string')\n"
     ]
    }
   ],
   "source": [
    "x =(1,2,[(),'string'], \"string\")\n",
    "print(x)\n"
   ]
  },
  {
   "cell_type": "code",
   "execution_count": 3,
   "metadata": {},
   "outputs": [
    {
     "name": "stdout",
     "output_type": "stream",
     "text": [
      "[1, 2, 3] (1, 2, 3)\n",
      "\n",
      "[1, 2, 3]\n"
     ]
    }
   ],
   "source": [
    "# can convert list to tuple\n",
    "a =[1,2,3]\n",
    "t =tuple(a)\n",
    "print(a,t)\n",
    "# can convert tuple to list\n",
    "print()\n",
    "\n",
    "x =list(t)\n",
    "print(x)"
   ]
  },
  {
   "cell_type": "code",
   "execution_count": 4,
   "metadata": {},
   "outputs": [
    {
     "name": "stdout",
     "output_type": "stream",
     "text": [
      "abcd ('a', 'b', 'c', 'd')\n"
     ]
    }
   ],
   "source": [
    "a =\"abcd\"\n",
    "t =tuple(a)\n",
    "print(a,t)"
   ]
  },
  {
   "cell_type": "code",
   "execution_count": 5,
   "metadata": {},
   "outputs": [
    {
     "name": "stdout",
     "output_type": "stream",
     "text": [
      "abcdabcdabcd\n",
      "('a', 'b', 'c', 'd', 'a', 'b', 'c', 'd', 'a', 'b', 'c', 'd')\n"
     ]
    }
   ],
   "source": [
    "s =\"abcd\"\n",
    "print(s*3)\n",
    "t =tuple(s)\n",
    "print(t*3)\n"
   ]
  },
  {
   "cell_type": "code",
   "execution_count": 6,
   "metadata": {},
   "outputs": [
    {
     "name": "stdout",
     "output_type": "stream",
     "text": [
      "(10, 12, 13, True, 10, 12, 13, True, 10, 12, 13, True)\n",
      "\n",
      "[10, 12, 13, True, 10, 12, 13, True, 10, 12, 13, True]\n"
     ]
    }
   ],
   "source": [
    "s =(10,12,13,True)\n",
    "print(s*3)\n",
    "print()\n",
    "t =list(s)\n",
    "print(t*3)\n"
   ]
  },
  {
   "cell_type": "code",
   "execution_count": 7,
   "metadata": {},
   "outputs": [
    {
     "name": "stdout",
     "output_type": "stream",
     "text": [
      "['__add__', '__class__', '__contains__', '__delattr__', '__dir__', '__doc__', '__eq__', '__format__', '__ge__', '__getattribute__', '__getitem__', '__getnewargs__', '__gt__', '__hash__', '__init__', '__init_subclass__', '__iter__', '__le__', '__len__', '__lt__', '__mul__', '__ne__', '__new__', '__reduce__', '__reduce_ex__', '__repr__', '__rmul__', '__setattr__', '__sizeof__', '__str__', '__subclasshook__', 'count', 'index']\n"
     ]
    }
   ],
   "source": [
    "print(dir(tuple))"
   ]
  },
  {
   "cell_type": "markdown",
   "metadata": {},
   "source": [
    "##functions \n",
    "  \n",
    "   "
   ]
  },
  {
   "cell_type": "code",
   "execution_count": 8,
   "metadata": {},
   "outputs": [
    {
     "name": "stdout",
     "output_type": "stream",
     "text": [
      "Enter BAse:10\n",
      "enter exponenet:2\n",
      "100\n"
     ]
    }
   ],
   "source": [
    "b = int(input('Enter BAse:',))\n",
    "e = int(input('enter exponenet:',))\n",
    "\n",
    "i = 1\n",
    "for var in range(e):\n",
    "    i=i*b\n",
    "print(i)\n",
    "#############\n",
    "#           range\n",
    "#           0   1\n",
    "#i = 1     1    10\n",
    "#b = 10    10   10\n",
    "#e =2\n",
    "#i=        10    100]\n"
   ]
  },
  {
   "cell_type": "code",
   "execution_count": 9,
   "metadata": {},
   "outputs": [],
   "source": [
    "def funct():\n",
    "    print('A+B')\n"
   ]
  },
  {
   "cell_type": "code",
   "execution_count": 10,
   "metadata": {},
   "outputs": [
    {
     "name": "stdout",
     "output_type": "stream",
     "text": [
      "A+B\n",
      "None\n"
     ]
    }
   ],
   "source": [
    "print(funct())"
   ]
  },
  {
   "cell_type": "code",
   "execution_count": 11,
   "metadata": {},
   "outputs": [],
   "source": [
    "def Square(x):\n",
    "    print('square is:',x**2)"
   ]
  },
  {
   "cell_type": "raw",
   "metadata": {},
   "source": [
    "square(2)"
   ]
  },
  {
   "cell_type": "code",
   "execution_count": 12,
   "metadata": {},
   "outputs": [
    {
     "name": "stdout",
     "output_type": "stream",
     "text": [
      "square is: 36\n"
     ]
    }
   ],
   "source": [
    "Square(6)"
   ]
  },
  {
   "cell_type": "code",
   "execution_count": 21,
   "metadata": {},
   "outputs": [
    {
     "name": "stdout",
     "output_type": "stream",
     "text": [
      "enter a number:2\n",
      "Cube is: 8\n"
     ]
    }
   ],
   "source": [
    "def cube(x):\n",
    "    print(\"Cube is:\",x**3)\n",
    "x = int(input(\"enter a number:\",))\n",
    "cube(x)\n"
   ]
  },
  {
   "cell_type": "code",
   "execution_count": 35,
   "metadata": {},
   "outputs": [
    {
     "name": "stdout",
     "output_type": "stream",
     "text": [
      "100\n",
      "9\n",
      "36\n",
      "79\n"
     ]
    }
   ],
   "source": [
    "def square(x):\n",
    "    return x*x\n",
    "a =print(square(10))\n",
    "b =print(square(3))\n",
    "c = print(square(6))\n",
    "r= square(10)+ square(2)- square(5)\n",
    "print(r)\n"
   ]
  },
  {
   "cell_type": "code",
   "execution_count": 36,
   "metadata": {},
   "outputs": [],
   "source": [
    "# WAF fuct(n) and returns factorial of n!\n"
   ]
  },
  {
   "cell_type": "code",
   "execution_count": 9,
   "metadata": {},
   "outputs": [
    {
     "name": "stdout",
     "output_type": "stream",
     "text": [
      "Enter a number:,9\n",
      "1,2,6,24,120,720,5040,40320,362880,"
     ]
    },
    {
     "data": {
      "text/plain": [
       "362880"
      ]
     },
     "execution_count": 9,
     "metadata": {},
     "output_type": "execute_result"
    }
   ],
   "source": [
    "\n",
    "def fact(n):\n",
    "    i = 1\n",
    "    for var in range(1,n+1):\n",
    "        i=i*var\n",
    "        print(i,end=\",\")\n",
    "    return i\n",
    "n = int(input('Enter a number:,'))\n",
    "fact(n)\n",
    "#                      Range\n",
    "#                     (var)\n",
    "#                  1   2   3   4   5\n",
    "#i  ilp            1   1   2   6   24\n",
    "#i =i*var   olp    1   2   6   24  120\n"
   ]
  },
  {
   "cell_type": "code",
   "execution_count": 2,
   "metadata": {},
   "outputs": [],
   "source": [
    "## WAp get rand_list() which should a list of   5 random numbres"
   ]
  },
  {
   "cell_type": "code",
   "execution_count": 55,
   "metadata": {},
   "outputs": [
    {
     "name": "stdout",
     "output_type": "stream",
     "text": [
      "enter a numner:;ll\n",
      "[0, 1, 2, 3, 4]"
     ]
    }
   ],
   "source": [
    "def rand_list():\n",
    "    import random\n",
    "    i=0\n",
    "    s= []\n",
    "    for var in range(5):\n",
    "        s.append(var)\n",
    "        i+=1\n",
    "    print(s,end=\"\")\n",
    "n = (input(\"enter a numner:\", ))\n",
    "rand_list()"
   ]
  },
  {
   "cell_type": "code",
   "execution_count": 56,
   "metadata": {},
   "outputs": [],
   "source": [
    "## WAp get rand_list() which should a list of   5 random numbres from 100 to 200"
   ]
  },
  {
   "cell_type": "code",
   "execution_count": 60,
   "metadata": {},
   "outputs": [
    {
     "name": "stdout",
     "output_type": "stream",
     "text": [
      "[182, 197, 117, 110, 156]"
     ]
    }
   ],
   "source": [
    "def rand_list():\n",
    "    import random\n",
    "    s= []\n",
    "    for var in range(5):\n",
    "        s.append(random.randint(100,200))\n",
    "        \n",
    "    print(s,end=\"\")\n",
    "rand_list()"
   ]
  },
  {
   "cell_type": "code",
   "execution_count": 65,
   "metadata": {},
   "outputs": [
    {
     "name": "stdout",
     "output_type": "stream",
     "text": [
      "4 17\n",
      "11 8\n",
      "19 4\n",
      "23 2\n",
      "25 1\n",
      "26 0\n",
      "26 0\n",
      "26 0\n",
      "26 0\n",
      "26 0\n",
      "26 0\n",
      "26 0\n",
      "26 0\n",
      "26 0\n",
      "26 0\n",
      "26 0\n",
      "26 0\n",
      "26 0\n",
      "26 0\n",
      "26 0\n",
      "26 0\n",
      "26 0\n",
      "26 0\n",
      "26 0\n",
      "26 0\n",
      "26 0\n",
      "26 0\n",
      "26 0\n",
      "26 0\n",
      "26 0\n",
      "26 0\n",
      "26 0\n",
      "26 0\n",
      "26 0\n"
     ]
    },
    {
     "data": {
      "text/plain": [
       "26"
      ]
     },
     "execution_count": 65,
     "metadata": {},
     "output_type": "execute_result"
    }
   ],
   "source": [
    "def sum_d(n):\n",
    "    p=0\n",
    "    for i in range(1,n+1):\n",
    "        p=p+n%10\n",
    "        n=n//2\n",
    "        print(p,n)\n",
    "    return p\n",
    "sum_d(34)"
   ]
  },
  {
   "cell_type": "code",
   "execution_count": null,
   "metadata": {},
   "outputs": [],
   "source": []
  }
 ],
 "metadata": {
  "kernelspec": {
   "display_name": "Python 3",
   "language": "python",
   "name": "python3"
  },
  "language_info": {
   "codemirror_mode": {
    "name": "ipython",
    "version": 3
   },
   "file_extension": ".py",
   "mimetype": "text/x-python",
   "name": "python",
   "nbconvert_exporter": "python",
   "pygments_lexer": "ipython3",
   "version": "3.7.3"
  }
 },
 "nbformat": 4,
 "nbformat_minor": 2
}
