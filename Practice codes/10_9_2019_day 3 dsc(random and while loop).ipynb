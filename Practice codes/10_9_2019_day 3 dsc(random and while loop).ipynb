{
 "cells": [
  {
   "cell_type": "code",
   "execution_count": 1,
   "metadata": {},
   "outputs": [],
   "source": [
    "import random"
   ]
  },
  {
   "cell_type": "code",
   "execution_count": 2,
   "metadata": {},
   "outputs": [
    {
     "data": {
      "text/plain": [
       "['BPF',\n",
       " 'LOG4',\n",
       " 'NV_MAGICCONST',\n",
       " 'RECIP_BPF',\n",
       " 'Random',\n",
       " 'SG_MAGICCONST',\n",
       " 'SystemRandom',\n",
       " 'TWOPI',\n",
       " '_BuiltinMethodType',\n",
       " '_MethodType',\n",
       " '_Sequence',\n",
       " '_Set',\n",
       " '__all__',\n",
       " '__builtins__',\n",
       " '__cached__',\n",
       " '__doc__',\n",
       " '__file__',\n",
       " '__loader__',\n",
       " '__name__',\n",
       " '__package__',\n",
       " '__spec__',\n",
       " '_acos',\n",
       " '_bisect',\n",
       " '_ceil',\n",
       " '_cos',\n",
       " '_e',\n",
       " '_exp',\n",
       " '_inst',\n",
       " '_itertools',\n",
       " '_log',\n",
       " '_os',\n",
       " '_pi',\n",
       " '_random',\n",
       " '_sha512',\n",
       " '_sin',\n",
       " '_sqrt',\n",
       " '_test',\n",
       " '_test_generator',\n",
       " '_urandom',\n",
       " '_warn',\n",
       " 'betavariate',\n",
       " 'choice',\n",
       " 'choices',\n",
       " 'expovariate',\n",
       " 'gammavariate',\n",
       " 'gauss',\n",
       " 'getrandbits',\n",
       " 'getstate',\n",
       " 'lognormvariate',\n",
       " 'normalvariate',\n",
       " 'paretovariate',\n",
       " 'randint',\n",
       " 'random',\n",
       " 'randrange',\n",
       " 'sample',\n",
       " 'seed',\n",
       " 'setstate',\n",
       " 'shuffle',\n",
       " 'triangular',\n",
       " 'uniform',\n",
       " 'vonmisesvariate',\n",
       " 'weibullvariate']"
      ]
     },
     "execution_count": 2,
     "metadata": {},
     "output_type": "execute_result"
    }
   ],
   "source": [
    "dir(random)"
   ]
  },
  {
   "cell_type": "code",
   "execution_count": 3,
   "metadata": {},
   "outputs": [],
   "source": [
    "from random import randint,randrange"
   ]
  },
  {
   "cell_type": "code",
   "execution_count": 4,
   "metadata": {},
   "outputs": [
    {
     "name": "stdout",
     "output_type": "stream",
     "text": [
      "['__call__', '__class__', '__delattr__', '__dir__', '__doc__', '__eq__', '__format__', '__func__', '__ge__', '__get__', '__getattribute__', '__gt__', '__hash__', '__init__', '__init_subclass__', '__le__', '__lt__', '__ne__', '__new__', '__reduce__', '__reduce_ex__', '__repr__', '__self__', '__setattr__', '__sizeof__', '__str__', '__subclasshook__']\n",
      "['__call__', '__class__', '__delattr__', '__dir__', '__doc__', '__eq__', '__format__', '__func__', '__ge__', '__get__', '__getattribute__', '__gt__', '__hash__', '__init__', '__init_subclass__', '__le__', '__lt__', '__ne__', '__new__', '__reduce__', '__reduce_ex__', '__repr__', '__self__', '__setattr__', '__sizeof__', '__str__', '__subclasshook__']\n"
     ]
    }
   ],
   "source": [
    "print(dir(randint))\n",
    "print(dir(randrange))"
   ]
  },
  {
   "cell_type": "code",
   "execution_count": 5,
   "metadata": {},
   "outputs": [
    {
     "name": "stdout",
     "output_type": "stream",
     "text": [
      "<module 'random' from 'C:\\\\ProgramData\\\\Anaconda3\\\\lib\\\\random.py'>\n"
     ]
    }
   ],
   "source": [
    "print(random)"
   ]
  },
  {
   "cell_type": "code",
   "execution_count": 6,
   "metadata": {},
   "outputs": [],
   "source": [
    "#WAP to generate 2 random no.(1-100) and print their sum and avg"
   ]
  },
  {
   "cell_type": "code",
   "execution_count": 7,
   "metadata": {},
   "outputs": [
    {
     "name": "stdout",
     "output_type": "stream",
     "text": [
      "Value of x is: 8\n",
      "Value of y is: 13\n",
      " Sum of x and y: 21\n",
      "Avg of x and y is: 10.5\n"
     ]
    }
   ],
   "source": [
    "from random import randint\n",
    "x = randint(1,100)\n",
    "y = randint(1,100)\n",
    "print('Value of x is:', x)\n",
    "print('Value of y is:',y)\n",
    "print (' Sum of x and y:', x+y)\n",
    "print('Avg of x and y is:',(x+y)/2)"
   ]
  },
  {
   "cell_type": "code",
   "execution_count": 8,
   "metadata": {},
   "outputs": [],
   "source": [
    "# WAP to generate 2 random no.(1-100) and print their sum and avg for 10 times\n",
    "# while Loop"
   ]
  },
  {
   "cell_type": "code",
   "execution_count": 9,
   "metadata": {},
   "outputs": [
    {
     "name": "stdout",
     "output_type": "stream",
     "text": [
      "Value of x is: 94\n",
      "Value of y is: 36\n",
      "Sum of two random numbers is: 130\n",
      "Average of two random numbers is: 65.0\n",
      "Value of x is: 80\n",
      "Value of y is: 88\n",
      "Sum of two random numbers is: 168\n",
      "Average of two random numbers is: 84.0\n",
      "Value of x is: 42\n",
      "Value of y is: 24\n",
      "Sum of two random numbers is: 66\n",
      "Average of two random numbers is: 33.0\n",
      "Value of x is: 27\n",
      "Value of y is: 69\n",
      "Sum of two random numbers is: 96\n",
      "Average of two random numbers is: 48.0\n",
      "Value of x is: 88\n",
      "Value of y is: 83\n",
      "Sum of two random numbers is: 171\n",
      "Average of two random numbers is: 85.5\n",
      "Value of x is: 12\n",
      "Value of y is: 36\n",
      "Sum of two random numbers is: 48\n",
      "Average of two random numbers is: 24.0\n",
      "Value of x is: 36\n",
      "Value of y is: 75\n",
      "Sum of two random numbers is: 111\n",
      "Average of two random numbers is: 55.5\n",
      "Value of x is: 43\n",
      "Value of y is: 94\n",
      "Sum of two random numbers is: 137\n",
      "Average of two random numbers is: 68.5\n",
      "Value of x is: 94\n",
      "Value of y is: 72\n",
      "Sum of two random numbers is: 166\n",
      "Average of two random numbers is: 83.0\n",
      "Value of x is: 37\n",
      "Value of y is: 11\n",
      "Sum of two random numbers is: 48\n",
      "Average of two random numbers is: 24.0\n",
      "Value of x is: 98\n",
      "Value of y is: 7\n",
      "Sum of two random numbers is: 105\n",
      "Average of two random numbers is: 52.5\n"
     ]
    }
   ],
   "source": [
    "from random import randint\n",
    "i =0\n",
    "while i<=10:\n",
    "    x = randint(1,100)\n",
    "    y = randint(1,100)\n",
    "    i+=1\n",
    "    print('Value of x is:', x)\n",
    "    print('Value of y is:', y)\n",
    "    print ('Sum of two random numbers is:', x+y)\n",
    "    print('Average of two random numbers is:',(x+y)/2)\n",
    " "
   ]
  },
  {
   "cell_type": "code",
   "execution_count": 10,
   "metadata": {},
   "outputs": [
    {
     "name": "stdout",
     "output_type": "stream",
     "text": [
      "valuves are: 1\n",
      "valuves are: 2\n",
      "valuves are: 3\n",
      "valuves are: 4\n",
      "valuves are: 5\n",
      "valuves are: 6\n",
      "valuves are: 7\n",
      "valuves are: 8\n",
      "valuves are: 9\n",
      "valuves are: 10\n"
     ]
    }
   ],
   "source": [
    "i= 0     # \n",
    "while i <10:\n",
    "    i+=1\n",
    "    print(\"valuves are:\",i)"
   ]
  },
  {
   "cell_type": "code",
   "execution_count": 11,
   "metadata": {},
   "outputs": [
    {
     "name": "stdout",
     "output_type": "stream",
     "text": [
      "valuves are: 0\n",
      "valuves are: 1\n",
      "valuves are: 2\n",
      "valuves are: 3\n",
      "valuves are: 4\n",
      "valuves are: 5\n",
      "valuves are: 6\n",
      "valuves are: 7\n",
      "valuves are: 8\n",
      "valuves are: 9\n"
     ]
    }
   ],
   "source": [
    "i= 0\n",
    "while i <10:\n",
    "    print(\"valuves are:\",i)\n",
    "    i+=1\n",
    "    "
   ]
  },
  {
   "cell_type": "code",
   "execution_count": 12,
   "metadata": {},
   "outputs": [
    {
     "name": "stdout",
     "output_type": "stream",
     "text": [
      "values are: 10\n",
      "values are: 9\n",
      "values are: 8\n",
      "values are: 7\n",
      "values are: 6\n",
      "values are: 5\n",
      "values are: 4\n",
      "values are: 3\n",
      "values are: 2\n",
      "values are: 1\n"
     ]
    }
   ],
   "source": [
    "i= 10\n",
    "while i >=1:\n",
    "    print(\"values are:\",i)\n",
    "    i-=1\n",
    "    "
   ]
  },
  {
   "cell_type": "code",
   "execution_count": 13,
   "metadata": {},
   "outputs": [
    {
     "name": "stdout",
     "output_type": "stream",
     "text": [
      "Enter a number:5\n",
      "1 2\n",
      "3 3\n",
      "6 4\n",
      "10 5\n",
      "15 6\n",
      "15\n"
     ]
    }
   ],
   "source": [
    "n = int(input('Enter a number:'))\n",
    "i = 1\n",
    "s =0\n",
    "while i <=n:\n",
    "    s +=i\n",
    "    i+=1\n",
    "    print(s,i)\n",
    "print(s)\n",
    "# i = 1    2    3   4     5\n",
    "# s = 0   1    3   6     10"
   ]
  },
  {
   "cell_type": "code",
   "execution_count": 14,
   "metadata": {},
   "outputs": [
    {
     "name": "stdout",
     "output_type": "stream",
     "text": [
      "Enter a number:5\n",
      "15.0\n"
     ]
    }
   ],
   "source": [
    "# WAP to find sum of number from 1 to n,hint   s(n) = (n*(n+1)/2), n =1 >s(1)= 1(2/2)= 1, s(2) = 1+2 = 3, s(3) 1+2+3= 6=> 3(3+1)/2 = 6 \n",
    "n = int(input('Enter a number:',))\n",
    "print(n*(n+1)/2)"
   ]
  },
  {
   "cell_type": "code",
   "execution_count": 15,
   "metadata": {},
   "outputs": [],
   "source": [
    "# WAP to print 10 random numbers between 10-100."
   ]
  },
  {
   "cell_type": "code",
   "execution_count": 16,
   "metadata": {},
   "outputs": [
    {
     "name": "stdout",
     "output_type": "stream",
     "text": [
      "46\n",
      "82\n",
      "30\n",
      "37\n",
      "14\n",
      "43\n",
      "13\n",
      "21\n",
      "26\n",
      "61\n"
     ]
    }
   ],
   "source": [
    "import random as rn\n",
    "i = 1\n",
    "while i <=10:\n",
    "    x = rn.randint(10,100)\n",
    "    i+=1\n",
    "    print (x)  "
   ]
  },
  {
   "cell_type": "code",
   "execution_count": null,
   "metadata": {},
   "outputs": [],
   "source": [
    " s = input('Enter n to exit:')\n",
    "count =0\n",
    "while s!='n':\n",
    "    s = input('Enter n to exit:')\n",
    "    count+=1\n",
    "print('Counted:',count)"
   ]
  },
  {
   "cell_type": "code",
   "execution_count": 18,
   "metadata": {},
   "outputs": [
    {
     "name": "stdout",
     "output_type": "stream",
     "text": [
      "4\n",
      "c\n"
     ]
    }
   ],
   "source": [
    "s =\"abcd\"\n",
    "print(len(s))\n",
    "print(s[2])"
   ]
  },
  {
   "cell_type": "code",
   "execution_count": 19,
   "metadata": {},
   "outputs": [
    {
     "name": "stdout",
     "output_type": "stream",
     "text": [
      "Enter a string:sdfgh\n",
      "s\n",
      "d\n",
      "f\n",
      "g\n",
      "h\n",
      "5\n"
     ]
    }
   ],
   "source": [
    "s = input('Enter a string:',)\n",
    "i = 0\n",
    "while i <len(s):\n",
    "    print(s[i])\n",
    "    \n",
    "    i+=1\n",
    "print(len(s))"
   ]
  },
  {
   "cell_type": "code",
   "execution_count": 20,
   "metadata": {},
   "outputs": [
    {
     "name": "stdout",
     "output_type": "stream",
     "text": [
      "Enter a string:abcd\n",
      "a 97\n",
      "b 98\n",
      "c 99\n",
      "d 100\n"
     ]
    }
   ],
   "source": [
    "# WAP to input a string and print ascii value of each character\n",
    "s = input('Enter a string:', )\n",
    "i = 0\n",
    "while i<len(s):\n",
    "    print(s[i], ord(s[i]))\n",
    "    i+=1"
   ]
  },
  {
   "cell_type": "code",
   "execution_count": 23,
   "metadata": {},
   "outputs": [
    {
     "name": "stdout",
     "output_type": "stream",
     "text": [
      "U\n"
     ]
    }
   ],
   "source": [
    "import random\n",
    "import string\n",
    "s = random.choice(string.ascii_letters)\n",
    "print(s)"
   ]
  },
  {
   "cell_type": "code",
   "execution_count": 24,
   "metadata": {},
   "outputs": [],
   "source": [
    "# WAP to input a string and find sum ascii value of each character"
   ]
  },
  {
   "cell_type": "code",
   "execution_count": 31,
   "metadata": {},
   "outputs": [
    {
     "name": "stdout",
     "output_type": "stream",
     "text": [
      "Enter a string:abcd\n",
      "a b\n",
      "97 98\n",
      "195\n",
      "b c\n",
      "98 99\n",
      "197\n",
      "c d\n",
      "99 100\n",
      "199\n"
     ]
    }
   ],
   "source": [
    "s = input('Enter a string:', )\n",
    "i =0\n",
    "while i<(len(s)-1):\n",
    "    print(s[i] +\" \" + s[i+1])\n",
    "    print(ord(s[i]) , ord(s[i+1]))\n",
    "    print(ord(s[i]) + ord(s[i+1]))\n",
    "    i+=1\n",
    "          \n",
    "          \n"
   ]
  },
  {
   "cell_type": "code",
   "execution_count": null,
   "metadata": {},
   "outputs": [],
   "source": []
  }
 ],
 "metadata": {
  "kernelspec": {
   "display_name": "Python 3",
   "language": "python",
   "name": "python3"
  },
  "language_info": {
   "codemirror_mode": {
    "name": "ipython",
    "version": 3
   },
   "file_extension": ".py",
   "mimetype": "text/x-python",
   "name": "python",
   "nbconvert_exporter": "python",
   "pygments_lexer": "ipython3",
   "version": "3.7.3"
  }
 },
 "nbformat": 4,
 "nbformat_minor": 2
}
